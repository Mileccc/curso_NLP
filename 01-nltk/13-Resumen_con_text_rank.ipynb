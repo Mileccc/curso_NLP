{
 "cells": [
  {
   "cell_type": "markdown",
   "metadata": {},
   "source": [
    "1. Preprocesar el documento: Tokenizar el documento en oraciones.\n",
    "2. Vectorizar: Convertir oraciones o palabras en vectores. Esto podría hacerse usando TF-IDF, bolsa de palabras, etc.\n",
    "3. Calcular similitud: Crear una matriz de similitud donde cada elemento representa la similitud entre dos oraciones o palabras.\n",
    "4. Normalizar: asegurarse de que cada fila sume uno.\n",
    "5. Construir grafo: Usando la matriz de similitud, crear un grafo donde los nodos representen oraciones o palabras y los bordes representen puntuaciones de similitud.\n",
    "6. Puntuar nodos: Implementar el mecanismo de clasificación de TextRank para puntuar cada nodo.\n",
    "7. Extraer resultados: Para resumir, seleccionar las oraciones con la mejor clasificación. Para la extracción de palabras clave, elegir las palabras mejor clasificadas."
   ]
  },
  {
   "cell_type": "code",
   "execution_count": 91,
   "metadata": {},
   "outputs": [],
   "source": [
    "import pandas as pd\n",
    "import numpy as np\n",
    "import textwrap\n",
    "import nltk\n",
    "from nltk.corpus import stopwords\n",
    "from nltk import word_tokenize\n",
    "from nltk.stem import WordNetLemmatizer, PorterStemmer\n",
    "from sklearn.feature_extraction.text import TfidfVectorizer\n",
    "from sklearn.metrics.pairwise import cosine_similarity"
   ]
  },
  {
   "cell_type": "code",
   "execution_count": 92,
   "metadata": {},
   "outputs": [
    {
     "name": "stderr",
     "output_type": "stream",
     "text": [
      "[nltk_data] Downloading package punkt to\n",
      "[nltk_data]     C:\\Users\\diabl\\AppData\\Roaming\\nltk_data...\n",
      "[nltk_data]   Package punkt is already up-to-date!\n",
      "[nltk_data] Downloading package stopwords to\n",
      "[nltk_data]     C:\\Users\\diabl\\AppData\\Roaming\\nltk_data...\n",
      "[nltk_data]   Package stopwords is already up-to-date!\n"
     ]
    },
    {
     "data": {
      "text/plain": [
       "True"
      ]
     },
     "execution_count": 92,
     "metadata": {},
     "output_type": "execute_result"
    }
   ],
   "source": [
    "nltk.download('punkt')\n",
    "nltk.download('stopwords')"
   ]
  },
  {
   "cell_type": "code",
   "execution_count": 93,
   "metadata": {},
   "outputs": [],
   "source": [
    "df = pd.read_csv('./12-resumen/data_larazon_publico_v2.csv')"
   ]
  },
  {
   "cell_type": "code",
   "execution_count": 94,
   "metadata": {},
   "outputs": [
    {
     "data": {
      "text/html": [
       "<div>\n",
       "<style scoped>\n",
       "    .dataframe tbody tr th:only-of-type {\n",
       "        vertical-align: middle;\n",
       "    }\n",
       "\n",
       "    .dataframe tbody tr th {\n",
       "        vertical-align: top;\n",
       "    }\n",
       "\n",
       "    .dataframe thead th {\n",
       "        text-align: right;\n",
       "    }\n",
       "</style>\n",
       "<table border=\"1\" class=\"dataframe\">\n",
       "  <thead>\n",
       "    <tr style=\"text-align: right;\">\n",
       "      <th></th>\n",
       "      <th>Unnamed: 0</th>\n",
       "      <th>indi</th>\n",
       "      <th>cuerpo</th>\n",
       "      <th>titular</th>\n",
       "    </tr>\n",
       "  </thead>\n",
       "  <tbody>\n",
       "    <tr>\n",
       "      <th>0</th>\n",
       "      <td>0</td>\n",
       "      <td>0</td>\n",
       "      <td>dos semanas después de su puesta de largo y pr...</td>\n",
       "      <td>el submarino s-80 ya flota</td>\n",
       "    </tr>\n",
       "    <tr>\n",
       "      <th>1</th>\n",
       "      <td>1</td>\n",
       "      <td>1</td>\n",
       "      <td>este viernes, el presidente del gobierno, pedr...</td>\n",
       "      <td>calviño y calvo alaban (sin darse cuenta) la g...</td>\n",
       "    </tr>\n",
       "    <tr>\n",
       "      <th>2</th>\n",
       "      <td>2</td>\n",
       "      <td>2</td>\n",
       "      <td>el ministro del interior, fernando grande-marl...</td>\n",
       "      <td>el geo de la policía tendrá una nueva sede en ...</td>\n",
       "    </tr>\n",
       "    <tr>\n",
       "      <th>3</th>\n",
       "      <td>3</td>\n",
       "      <td>3</td>\n",
       "      <td>son días muy duros para la familia de olivia y...</td>\n",
       "      <td>la madre de las niñas \"sobran las palabras par...</td>\n",
       "    </tr>\n",
       "    <tr>\n",
       "      <th>4</th>\n",
       "      <td>4</td>\n",
       "      <td>4</td>\n",
       "      <td>sólo quedan 10 presos de eta por recibir los b...</td>\n",
       "      <td>sólo quedan 10 presos de eta por recibir el be...</td>\n",
       "    </tr>\n",
       "  </tbody>\n",
       "</table>\n",
       "</div>"
      ],
      "text/plain": [
       "   Unnamed: 0  indi                                             cuerpo  \\\n",
       "0           0     0  dos semanas después de su puesta de largo y pr...   \n",
       "1           1     1  este viernes, el presidente del gobierno, pedr...   \n",
       "2           2     2  el ministro del interior, fernando grande-marl...   \n",
       "3           3     3  son días muy duros para la familia de olivia y...   \n",
       "4           4     4  sólo quedan 10 presos de eta por recibir los b...   \n",
       "\n",
       "                                             titular  \n",
       "0                         el submarino s-80 ya flota  \n",
       "1  calviño y calvo alaban (sin darse cuenta) la g...  \n",
       "2  el geo de la policía tendrá una nueva sede en ...  \n",
       "3  la madre de las niñas \"sobran las palabras par...  \n",
       "4  sólo quedan 10 presos de eta por recibir el be...  "
      ]
     },
     "execution_count": 94,
     "metadata": {},
     "output_type": "execute_result"
    }
   ],
   "source": [
    "df.head()"
   ]
  },
  {
   "cell_type": "code",
   "execution_count": 95,
   "metadata": {},
   "outputs": [],
   "source": [
    "doc = df[\"cuerpo\"].sample()"
   ]
  },
  {
   "cell_type": "code",
   "execution_count": 96,
   "metadata": {},
   "outputs": [
    {
     "name": "stdout",
     "output_type": "stream",
     "text": [
      "un subinspector y un agente de la policía nacional han sido detenidos en la tarde de este viernes en linares (jaén) cuando estaban fuera de servicio tras su presunta implicación en una agresión a un hombre en la calle esta misma jornada. según han informado fuentes de la policía a los medios, está previsto que los arrestados pasen a disposición judicial este sábado al juzgado de instrucción número 3 de la ciudad. en cualquier caso, ya se les ha abierto un expediente disciplinario por \"estos lamentables hechos que no tienen que empañar la labor que muchos agentes realizan en las calles\". el herido se encuentra ingresado en el hospital san agustín de linares con lesiones en la nariz y la cornea, y también ha resultado herida, aunque con menor gravedad, su hija de 14 años. en el material audiovisual difundido sobre la pelea por redes sociales se ve cómo varios hombres empiezan a dar golpes y empujones en plena calle a otro hombre, que acaba cayendo al suelo, siendo víctima de varios golpes y contusiones. desde el ayuntamiento de linares han condenado \"enérgicamente la brutal agresión cometida esta tarde\" y exigen \"que se actúe con contundencia contra una actitud que ensucia la imagen de un cuerpo que siempre ha velado por la seguridad de los linarenses\". igualmente, esperan que \"se tomen las medidas disciplinarias y de cualquier otra índole que sean necesarias para que los agresores no puedan volver a cometer un acto violento como el sucedido hoy\"\n",
      "1468\n"
     ]
    }
   ],
   "source": [
    "print(doc.iloc[0])\n",
    "print(len(doc.iloc[0]))"
   ]
  },
  {
   "cell_type": "code",
   "execution_count": 97,
   "metadata": {},
   "outputs": [],
   "source": [
    "def wrap(x):\n",
    "    return textwrap.fill(x, replace_whitespace=False, fix_sentence_endings=True)"
   ]
  },
  {
   "cell_type": "code",
   "execution_count": 98,
   "metadata": {},
   "outputs": [
    {
     "name": "stdout",
     "output_type": "stream",
     "text": [
      "un subinspector y un agente de la policía nacional han sido detenidos\n",
      "en la tarde de este viernes en linares (jaén) cuando estaban fuera de\n",
      "servicio tras su presunta implicación en una agresión a un hombre en\n",
      "la calle esta misma jornada.  según han informado fuentes de la\n",
      "policía a los medios, está previsto que los arrestados pasen a\n",
      "disposición judicial este sábado al juzgado de instrucción número 3 de\n",
      "la ciudad.  en cualquier caso, ya se les ha abierto un expediente\n",
      "disciplinario por \"estos lamentables hechos que no tienen que empañar\n",
      "la labor que muchos agentes realizan en las calles\". el herido se\n",
      "encuentra ingresado en el hospital san agustín de linares con lesiones\n",
      "en la nariz y la cornea, y también ha resultado herida, aunque con\n",
      "menor gravedad, su hija de 14 años.  en el material audiovisual\n",
      "difundido sobre la pelea por redes sociales se ve cómo varios hombres\n",
      "empiezan a dar golpes y empujones en plena calle a otro hombre, que\n",
      "acaba cayendo al suelo, siendo víctima de varios golpes y contusiones.\n",
      "desde el ayuntamiento de linares han condenado \"enérgicamente la\n",
      "brutal agresión cometida esta tarde\" y exigen \"que se actúe con\n",
      "contundencia contra una actitud que ensucia la imagen de un cuerpo que\n",
      "siempre ha velado por la seguridad de los linarenses\". igualmente,\n",
      "esperan que \"se tomen las medidas disciplinarias y de cualquier otra\n",
      "índole que sean necesarias para que los agresores no puedan volver a\n",
      "cometer un acto violento como el sucedido hoy\"\n"
     ]
    }
   ],
   "source": [
    "print(wrap(doc.iloc[0]))\n",
    "doc2 = wrap(doc.iloc[0])"
   ]
  },
  {
   "cell_type": "code",
   "execution_count": 99,
   "metadata": {},
   "outputs": [
    {
     "data": {
      "text/plain": [
       "['un subinspector y un agente de la policía nacional han sido detenidos\\nen la tarde de este viernes en linares (jaén) cuando estaban fuera de\\nservicio tras su presunta implicación en una agresión a un hombre en\\nla calle esta misma jornada',\n",
       " ' según han informado fuentes de la\\npolicía a los medios, está previsto que los arrestados pasen a\\ndisposición judicial este sábado al juzgado de instrucción número 3 de\\nla ciudad',\n",
       " ' en cualquier caso, ya se les ha abierto un expediente\\ndisciplinario por \"estos lamentables hechos que no tienen que empañar\\nla labor que muchos agentes realizan en las calles\"',\n",
       " 'el herido se\\nencuentra ingresado en el hospital san agustín de linares con lesiones\\nen la nariz y la cornea, y también ha resultado herida, aunque con\\nmenor gravedad, su hija de 14 años',\n",
       " ' en el material audiovisual\\ndifundido sobre la pelea por redes sociales se ve cómo varios hombres\\nempiezan a dar golpes y empujones en plena calle a otro hombre, que\\nacaba cayendo al suelo, siendo víctima de varios golpes y contusiones.\\ndesde el ayuntamiento de linares han condenado \"enérgicamente la\\nbrutal agresión cometida esta tarde\" y exigen \"que se actúe con\\ncontundencia contra una actitud que ensucia la imagen de un cuerpo que\\nsiempre ha velado por la seguridad de los linarenses\"',\n",
       " 'igualmente,\\nesperan que \"se tomen las medidas disciplinarias y de cualquier otra\\níndole que sean necesarias para que los agresores no puedan volver a\\ncometer un acto violento como el sucedido hoy\"']"
      ]
     },
     "execution_count": 99,
     "metadata": {},
     "output_type": "execute_result"
    }
   ],
   "source": [
    "lineas = doc2.split(\". \")\n",
    "lineas"
   ]
  },
  {
   "cell_type": "code",
   "execution_count": 100,
   "metadata": {},
   "outputs": [],
   "source": [
    "# Eliminamos de la lista de frases las frases vacias\n",
    "lineas = [item for item in lineas if item.strip()]"
   ]
  },
  {
   "cell_type": "code",
   "execution_count": 101,
   "metadata": {},
   "outputs": [
    {
     "data": {
      "text/plain": [
       "6"
      ]
     },
     "execution_count": 101,
     "metadata": {},
     "output_type": "execute_result"
    }
   ],
   "source": [
    "len(lineas)"
   ]
  },
  {
   "cell_type": "code",
   "execution_count": 102,
   "metadata": {},
   "outputs": [],
   "source": [
    "tokenizar = TfidfVectorizer(\n",
    "    stop_words=stopwords.words(\"spanish\"),\n",
    "    norm=\"l1\"  # Aquí indicamos que el peso va a ir de 0 a 1\n",
    ")"
   ]
  },
  {
   "cell_type": "code",
   "execution_count": 103,
   "metadata": {},
   "outputs": [
    {
     "data": {
      "text/plain": [
       "<6x114 sparse matrix of type '<class 'numpy.float64'>'\n",
       "\twith 122 stored elements in Compressed Sparse Row format>"
      ]
     },
     "execution_count": 103,
     "metadata": {},
     "output_type": "execute_result"
    }
   ],
   "source": [
    "X = tokenizar.fit_transform(lineas)\n",
    "X"
   ]
  },
  {
   "cell_type": "code",
   "execution_count": 104,
   "metadata": {},
   "outputs": [
    {
     "data": {
      "text/plain": [
       "(6, 114)"
      ]
     },
     "execution_count": 104,
     "metadata": {},
     "output_type": "execute_result"
    }
   ],
   "source": [
    "X.shape"
   ]
  },
  {
   "cell_type": "code",
   "execution_count": 105,
   "metadata": {},
   "outputs": [],
   "source": [
    "# Cualculamos como se parecen cada frase con las otras frases\n",
    "# Matriz de similitud\n",
    "S = cosine_similarity(X)"
   ]
  },
  {
   "cell_type": "code",
   "execution_count": 106,
   "metadata": {},
   "outputs": [
    {
     "data": {
      "text/plain": [
       "(6, 6)"
      ]
     },
     "execution_count": 106,
     "metadata": {},
     "output_type": "execute_result"
    }
   ],
   "source": [
    "S.shape"
   ]
  },
  {
   "cell_type": "code",
   "execution_count": 107,
   "metadata": {},
   "outputs": [
    {
     "name": "stdout",
     "output_type": "stream",
     "text": [
      "[[1.         0.04277624 0.         0.02793528 0.1136466  0.        ]\n",
      " [0.04277624 1.         0.         0.         0.         0.        ]\n",
      " [0.         0.         1.         0.         0.         0.04971578]\n",
      " [0.02793528 0.         0.         1.         0.01687202 0.        ]\n",
      " [0.1136466  0.         0.         0.01687202 1.         0.        ]\n",
      " [0.         0.         0.04971578 0.         0.         1.        ]]\n"
     ]
    }
   ],
   "source": [
    "print(S)"
   ]
  },
  {
   "cell_type": "markdown",
   "metadata": {},
   "source": [
    "- Normalizamos para asegurarnos de que cada fila sume 1\n",
    "- Se suman todos los valores de cada fila y estos valores sumados de cada fila se van dividiendo entre cada elemento de esa fila dando una matriz normalizada\n",
    "- Ejemplo:\n",
    "S = np.array([[1, 2, 3],\n",
    "              [4, 5, 6],\n",
    "              [7, 8, 9]])\n",
    "\n",
    "_________________________\n",
    "\n",
    "S.sum(axis=1, keepdims=True)\n",
    "array([[ 6],\n",
    "        [15],\n",
    "        [24]])\n",
    "\n",
    "_________________________\n",
    "\n",
    "S_normalized = S / S.sum(axis=1, keepdims=True)\n",
    "array([[0.16666667, 0.33333333, 0.5       ],\n",
    "        [0.26666667, 0.33333333, 0.4       ],\n",
    "        [0.29166667, 0.33333333, 0.375     ]])\n"
   ]
  },
  {
   "cell_type": "code",
   "execution_count": 108,
   "metadata": {},
   "outputs": [
    {
     "data": {
      "text/plain": [
       "array([[0.84433921, 0.03611766, 0.        , 0.02358685, 0.09595628,\n",
       "        0.        ],\n",
       "       [0.0410215 , 0.9589785 , 0.        , 0.        , 0.        ,\n",
       "        0.        ],\n",
       "       [0.        , 0.        , 0.95263882, 0.        , 0.        ,\n",
       "        0.04736118],\n",
       "       [0.02673725, 0.        , 0.        , 0.95711429, 0.01614845,\n",
       "        0.        ],\n",
       "       [0.10052608, 0.        , 0.        , 0.01492414, 0.88454978,\n",
       "        0.        ],\n",
       "       [0.        , 0.        , 0.04736118, 0.        , 0.        ,\n",
       "        0.95263882]])"
      ]
     },
     "execution_count": 108,
     "metadata": {},
     "output_type": "execute_result"
    }
   ],
   "source": [
    "# Normalizamos para asegurarnos de que cada fila sume 1\n",
    "# Se suman todos los valores de cada fila y estos valores sumados de cada fila se van dividiendo entre cada elemento de esa fila dando una matriz normalizada\n",
    "S = S / S.sum(axis=1, keepdims=True)\n",
    "S"
   ]
  },
  {
   "cell_type": "code",
   "execution_count": 109,
   "metadata": {},
   "outputs": [
    {
     "data": {
      "text/plain": [
       "array([[1., 1., 1., 1., 1., 1.],\n",
       "       [1., 1., 1., 1., 1., 1.],\n",
       "       [1., 1., 1., 1., 1., 1.],\n",
       "       [1., 1., 1., 1., 1., 1.],\n",
       "       [1., 1., 1., 1., 1., 1.],\n",
       "       [1., 1., 1., 1., 1., 1.]])"
      ]
     },
     "execution_count": 109,
     "metadata": {},
     "output_type": "execute_result"
    }
   ],
   "source": [
    "# Matriz de transición uniforme\n",
    "U = np.ones_like(S)\n",
    "U"
   ]
  },
  {
   "cell_type": "code",
   "execution_count": 110,
   "metadata": {},
   "outputs": [
    {
     "data": {
      "text/plain": [
       "(6, 6)"
      ]
     },
     "execution_count": 110,
     "metadata": {},
     "output_type": "execute_result"
    }
   ],
   "source": [
    "U.shape"
   ]
  },
  {
   "cell_type": "code",
   "execution_count": 111,
   "metadata": {},
   "outputs": [
    {
     "data": {
      "text/plain": [
       "array([[0.16666667, 0.16666667, 0.16666667, 0.16666667, 0.16666667,\n",
       "        0.16666667],\n",
       "       [0.16666667, 0.16666667, 0.16666667, 0.16666667, 0.16666667,\n",
       "        0.16666667],\n",
       "       [0.16666667, 0.16666667, 0.16666667, 0.16666667, 0.16666667,\n",
       "        0.16666667],\n",
       "       [0.16666667, 0.16666667, 0.16666667, 0.16666667, 0.16666667,\n",
       "        0.16666667],\n",
       "       [0.16666667, 0.16666667, 0.16666667, 0.16666667, 0.16666667,\n",
       "        0.16666667],\n",
       "       [0.16666667, 0.16666667, 0.16666667, 0.16666667, 0.16666667,\n",
       "        0.16666667]])"
      ]
     },
     "execution_count": 111,
     "metadata": {},
     "output_type": "execute_result"
    }
   ],
   "source": [
    "# Hacemos que cada fila tambien sume 1\n",
    "U = np.ones_like(S)/len(S)\n",
    "U"
   ]
  },
  {
   "cell_type": "code",
   "execution_count": 112,
   "metadata": {},
   "outputs": [
    {
     "data": {
      "text/plain": [
       "array([[0.74268833, 0.05570001, 0.025     , 0.04504882, 0.10656284,\n",
       "        0.025     ],\n",
       "       [0.05986827, 0.84013173, 0.025     , 0.025     , 0.025     ,\n",
       "        0.025     ],\n",
       "       [0.025     , 0.025     , 0.834743  , 0.025     , 0.025     ,\n",
       "        0.065257  ],\n",
       "       [0.04772667, 0.025     , 0.025     , 0.83854715, 0.03872618,\n",
       "        0.025     ],\n",
       "       [0.11044716, 0.025     , 0.025     , 0.03768552, 0.77686731,\n",
       "        0.025     ],\n",
       "       [0.025     , 0.025     , 0.065257  , 0.025     , 0.025     ,\n",
       "        0.834743  ]])"
      ]
     },
     "execution_count": 112,
     "metadata": {},
     "output_type": "execute_result"
    }
   ],
   "source": [
    "# Matriz de similitud suavizada\n",
    "factor = 0.15\n",
    "S = (1 - factor) * S + factor * U # Con esto hacemos que la matriz S valga un 85% y la matriz U valga un 15%\n",
    "S"
   ]
  },
  {
   "cell_type": "markdown",
   "metadata": {},
   "source": [
    "<img src=\"./12-resumen/Code_XysgwK2HQ9.png\" style=\"width:400px;hight:auto\"></img>"
   ]
  },
  {
   "cell_type": "code",
   "execution_count": 113,
   "metadata": {},
   "outputs": [],
   "source": [
    "# Calcular la prob de en que frase se esta posicionado en el tiempo\n",
    "eigenvals, eigenvecs = np.linalg.eig(S.T)"
   ]
  },
  {
   "cell_type": "code",
   "execution_count": 114,
   "metadata": {},
   "outputs": [
    {
     "data": {
      "text/plain": [
       "array([1.        , 0.64527545, 0.85      , 0.78734677, 0.81561229,\n",
       "       0.76948599])"
      ]
     },
     "execution_count": 114,
     "metadata": {},
     "output_type": "execute_result"
    }
   ],
   "source": [
    "eigenvals"
   ]
  },
  {
   "cell_type": "code",
   "execution_count": 115,
   "metadata": {},
   "outputs": [
    {
     "data": {
      "text/plain": [
       "array([-0.4221828 , -0.40130979, -0.40818954, -0.40152309, -0.40774249,\n",
       "       -0.40818954])"
      ]
     },
     "execution_count": 115,
     "metadata": {},
     "output_type": "execute_result"
    }
   ],
   "source": [
    "eigenvecs[:,0]"
   ]
  },
  {
   "cell_type": "code",
   "execution_count": 116,
   "metadata": {},
   "outputs": [],
   "source": [
    "scores = eigenvecs[:,0]"
   ]
  },
  {
   "cell_type": "code",
   "execution_count": 117,
   "metadata": {},
   "outputs": [
    {
     "data": {
      "text/plain": [
       "array([1, 3, 4, 5, 2, 0], dtype=int64)"
      ]
     },
     "execution_count": 117,
     "metadata": {},
     "output_type": "execute_result"
    }
   ],
   "source": [
    "sort_idx = np.argsort(-scores)\n",
    "sort_idx"
   ]
  },
  {
   "cell_type": "code",
   "execution_count": 118,
   "metadata": {},
   "outputs": [
    {
     "name": "stdout",
     "output_type": "stream",
     "text": [
      "Crear Resumen:\n",
      "-0.40:  según han informado fuentes de la\n",
      "policía a los medios, está\n",
      "previsto que los arrestados pasen a\n",
      "disposición judicial este sábado\n",
      "al juzgado de instrucción número 3 de\n",
      "la ciudad\n",
      "-0.40: el herido se\n",
      "encuentra ingresado en el hospital san agustín de\n",
      "linares con lesiones\n",
      "en la nariz y la cornea, y también ha resultado\n",
      "herida, aunque con\n",
      "menor gravedad, su hija de 14 años\n",
      "-0.41:  en el material audiovisual\n",
      "difundido sobre la pelea por redes\n",
      "sociales se ve cómo varios hombres\n",
      "empiezan a dar golpes y empujones\n",
      "en plena calle a otro hombre, que\n",
      "acaba cayendo al suelo, siendo\n",
      "víctima de varios golpes y contusiones.\n",
      "desde el ayuntamiento de\n",
      "linares han condenado \"enérgicamente la\n",
      "brutal agresión cometida esta\n",
      "tarde\" y exigen \"que se actúe con\n",
      "contundencia contra una actitud que\n",
      "ensucia la imagen de un cuerpo que\n",
      "siempre ha velado por la seguridad\n",
      "de los linarenses\"\n",
      "-0.41: igualmente,\n",
      "esperan que \"se tomen las medidas disciplinarias y\n",
      "de cualquier otra\n",
      "índole que sean necesarias para que los agresores no\n",
      "puedan volver a\n",
      "cometer un acto violento como el sucedido hoy\"\n",
      "-0.41:  en cualquier caso, ya se les ha abierto un expediente\n",
      "disciplinario por \"estos lamentables hechos que no tienen que empañar\n",
      "la labor que muchos agentes realizan en las calles\"\n"
     ]
    }
   ],
   "source": [
    "print(\"Crear Resumen:\")\n",
    "for i in sort_idx[:5]:\n",
    "    print(wrap(\"%.2f: %s\" % (scores[i], lineas[i])))"
   ]
  }
 ],
 "metadata": {
  "kernelspec": {
   "display_name": "vprutri",
   "language": "python",
   "name": "python3"
  },
  "language_info": {
   "codemirror_mode": {
    "name": "ipython",
    "version": 3
   },
   "file_extension": ".py",
   "mimetype": "text/x-python",
   "name": "python",
   "nbconvert_exporter": "python",
   "pygments_lexer": "ipython3",
   "version": "3.11.9"
  }
 },
 "nbformat": 4,
 "nbformat_minor": 2
}
