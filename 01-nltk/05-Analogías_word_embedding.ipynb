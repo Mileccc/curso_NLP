{
 "cells": [
  {
   "cell_type": "code",
   "execution_count": 4,
   "metadata": {},
   "outputs": [],
   "source": [
    "!pip install gensim -q\n"
   ]
  },
  {
   "cell_type": "code",
   "execution_count": 1,
   "metadata": {},
   "outputs": [
    {
     "name": "stdout",
     "output_type": "stream",
     "text": [
      "1.12.0\n"
     ]
    }
   ],
   "source": [
    "import scipy\n",
    "print(scipy.__version__)"
   ]
  },
  {
   "cell_type": "code",
   "execution_count": 2,
   "metadata": {},
   "outputs": [],
   "source": [
    "import gensim"
   ]
  },
  {
   "cell_type": "code",
   "execution_count": 3,
   "metadata": {},
   "outputs": [],
   "source": [
    "vectores = gensim.models.KeyedVectors.load_word2vec_format(\"SBW-vectors-300-min5.txt\")"
   ]
  },
  {
   "cell_type": "code",
   "execution_count": 4,
   "metadata": {},
   "outputs": [],
   "source": [
    "def analogias(v1,v2,v3):\n",
    "    similitud = vectores.most_similar(positive=[v1,v3], negative=[v2])\n",
    "    print(f\"{v1} es a {v2} como {similitud[0][0]} es a {v3}\")"
   ]
  },
  {
   "cell_type": "code",
   "execution_count": 5,
   "metadata": {},
   "outputs": [
    {
     "name": "stdout",
     "output_type": "stream",
     "text": [
      "rey es a hombre como reina es a mujer\n"
     ]
    }
   ],
   "source": [
    "analogias(\"rey\",\"hombre\",\"mujer\")"
   ]
  },
  {
   "cell_type": "code",
   "execution_count": 6,
   "metadata": {},
   "outputs": [
    {
     "name": "stdout",
     "output_type": "stream",
     "text": [
      "alemania es a alemán como España es a español\n"
     ]
    }
   ],
   "source": [
    "analogias(\"alemania\",\"alemán\",\"español\")"
   ]
  },
  {
   "cell_type": "code",
   "execution_count": 7,
   "metadata": {},
   "outputs": [
    {
     "name": "stdout",
     "output_type": "stream",
     "text": [
      "pan es a trigo como yogur es a leche\n"
     ]
    }
   ],
   "source": [
    "analogias(\"pan\",\"trigo\",\"leche\")"
   ]
  },
  {
   "cell_type": "code",
   "execution_count": 8,
   "metadata": {},
   "outputs": [
    {
     "name": "stdout",
     "output_type": "stream",
     "text": [
      "vaca es a leche como gallina es a huevo\n"
     ]
    }
   ],
   "source": [
    "analogias(\"vaca\",\"leche\",\"huevo\")"
   ]
  },
  {
   "cell_type": "code",
   "execution_count": 9,
   "metadata": {},
   "outputs": [],
   "source": [
    "def cercanos(v):\n",
    "    vecinos = vectores.most_similar(positive=[v])\n",
    "    print(f\"vecinos de: {v} \")\n",
    "    for word, score in vecinos:\n",
    "        print(\"\\t%s\" % word)"
   ]
  },
  {
   "cell_type": "code",
   "execution_count": 10,
   "metadata": {},
   "outputs": [
    {
     "name": "stdout",
     "output_type": "stream",
     "text": [
      "vecinos de: rey \n",
      "\tmonarca\n",
      "\treyes\n",
      "\treino\n",
      "\tpríncipe\n",
      "\treina\n",
      "\tHarthacnut\n",
      "\tRagnald\n",
      "\tSverkersson\n",
      "\tregente\n",
      "\tHardeknut\n"
     ]
    }
   ],
   "source": [
    "cercanos(\"rey\")"
   ]
  }
 ],
 "metadata": {
  "kernelspec": {
   "display_name": "Python 3",
   "language": "python",
   "name": "python3"
  },
  "language_info": {
   "codemirror_mode": {
    "name": "ipython",
    "version": 3
   },
   "file_extension": ".py",
   "mimetype": "text/x-python",
   "name": "python",
   "nbconvert_exporter": "python",
   "pygments_lexer": "ipython3",
   "version": "3.11.9"
  }
 },
 "nbformat": 4,
 "nbformat_minor": 2
}
