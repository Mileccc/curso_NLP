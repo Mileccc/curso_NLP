{
 "cells": [
  {
   "cell_type": "markdown",
   "metadata": {},
   "source": [
    "### 1- Detección y Remoción de Stopwords:\n",
    "\n",
    "- Identificación y eliminación de palabras comunes que no aportan significado significativo al análisis (e.g., \"y\", \"el\", \"de\")."
   ]
  },
  {
   "cell_type": "code",
   "execution_count": 1,
   "metadata": {},
   "outputs": [],
   "source": [
    "texto = \"El gato es negro y el perro es blanco\""
   ]
  },
  {
   "cell_type": "code",
   "execution_count": 2,
   "metadata": {},
   "outputs": [],
   "source": [
    "import os\n",
    "import nltk"
   ]
  },
  {
   "cell_type": "code",
   "execution_count": 3,
   "metadata": {},
   "outputs": [
    {
     "name": "stderr",
     "output_type": "stream",
     "text": [
      "[nltk_data] Downloading package stopwords to D:\\Programas\\nltk...\n",
      "[nltk_data]   Unzipping corpora\\stopwords.zip.\n"
     ]
    },
    {
     "data": {
      "text/plain": [
       "True"
      ]
     },
     "execution_count": 3,
     "metadata": {},
     "output_type": "execute_result"
    }
   ],
   "source": [
    "nltk_data_path = \"D:\\\\Programas\\\\nltk\"\n",
    "\n",
    "if not os.path.exists(nltk_data_path):\n",
    "    os.makedirs(nltk_data_path)\n",
    "\n",
    "nltk.data.path.append(nltk_data_path)\n",
    "\n",
    "nltk.download('stopwords', download_dir=nltk_data_path)"
   ]
  },
  {
   "cell_type": "code",
   "execution_count": 4,
   "metadata": {},
   "outputs": [],
   "source": [
    "from nltk.corpus import stopwords\n",
    "from nltk.tokenize import word_tokenize"
   ]
  },
  {
   "cell_type": "code",
   "execution_count": 5,
   "metadata": {},
   "outputs": [
    {
     "name": "stdout",
     "output_type": "stream",
     "text": [
      "{'hemos', 'fui', 'erais', 'tus', 'habíais', 'ya', 'nuestro', 'del', 'estoy', 'esta', 'estás', 'tenéis', 'hubieran', 'habríamos', 'ti', 'seríais', 'seréis', 'tienen', 'he', 'fuéramos', 'fueses', 'teniendo', 'tuviste', 'tuvieseis', 'sean', 'vosotras', 'estábamos', 'las', 'fueras', 'entre', 'estaban', 'con', 'tendrán', 'eso', 'mía', 'tenidas', 'están', 'han', 'nosotros', 'hubieses', 'nuestra', 'habría', 'al', 'estuviste', 'tendremos', 'muy', 'tuvimos', 'habrías', 'tendríais', 'estáis', 'estarían', 'vuestras', 'tendríamos', 'tenías', 'sentida', 'mí', 'qué', 'todos', 'fue', 'ellas', 'soy', 'ha', 'tuviese', 'hubiésemos', 'esto', 'ella', 'estados', 'habían', 'tuviera', 'tuya', 'hay', 'no', 'estas', 'hubiéramos', 'habrás', 'tengamos', 'haya', 'sintiendo', 'mis', 'estuviese', 'porque', 'tu', 'somos', 'tanto', 'habéis', 'hubisteis', 'tuvisteis', 'tuvierais', 'hubieseis', 'estuvieron', 'hube', 'ni', 'estuvieran', 'tendrían', 'antes', 'habida', 'os', 'eran', 'estuviesen', 'esas', 'estuvieras', 'estuvisteis', 'pero', 'tenemos', 'hubiesen', 'algo', 'unos', 'como', 'hubiste', 'hubiese', 'estamos', 'se', 'que', 'tuyo', 'tuvo', 'a', 'vuestra', 'seremos', 'otra', 'estabas', 'tenido', 'teníais', 'quien', 'tuvieron', 'hubieras', 'estabais', 'tengan', 'habido', 'más', 'me', 'siente', 'estada', 'fuisteis', 'en', 'estar', 'éramos', 'estéis', 'sus', 'has', 'fueran', 'hubiera', 'hubimos', 'estaríamos', 'está', 'sois', 'le', 'donde', 'seas', 'nuestras', 'mi', 'serían', 'estuve', 'fuésemos', 'de', 'tú', 'habrán', 'otro', 'fuiste', 'esos', 'tiene', 'tendrías', 'ante', 'o', 'yo', 'teníamos', 'un', 'estén', 'esa', 'fuimos', 'algunos', 'estarán', 'vuestro', 'fuese', 'habíamos', 'tuviesen', 'estará', 'son', 'tendré', 'estos', 'habréis', 'sentid', 'mías', 'estaremos', 'tuyas', 'lo', 'tendréis', 'habías', 'la', 'contra', 'estaréis', 'estaríais', 'serías', 'estuviera', 'estuvo', 'desde', 'sea', 'habrían', 'serán', 'tuyos', 'el', 'tenía', 'míos', 'les', 'tuviéramos', 'mío', 'estuvimos', 'estado', 'sería', 'es', 'tendrá', 'uno', 'estuviéramos', 'quienes', 'todo', 'estaba', 'estaré', 'durante', 'hubo', 'otros', 'vosotros', 'seríamos', 'estemos', 'sentido', 'él', 'fuera', 'tened', 'fuesen', 'sentidas', 'sí', 'te', 'estaría', 'y', 'suyo', 'tengáis', 'hayamos', 'sin', 'tuvieras', 'tendría', 'mucho', 'ellos', 'habidos', 'eras', 'habríais', 'estarías', 'sentidos', 'por', 'habiendo', 'su', 'hasta', 'cual', 'nada', 'fueron', 'este', 'suyas', 'suyos', 'estés', 'seamos', 'habrá', 'los', 'eres', 'hayas', 'hayáis', 'cuando', 'estuvieseis', 'ese', 'vuestros', 'hayan', 'esté', 'nuestros', 'habremos', 'estadas', 'estuvierais', 'estuviésemos', 'será', 'seré', 'era', 'tuvieran', 'e', 'estarás', 'serás', 'estando', 'habidas', 'tenga', 'poco', 'tuviésemos', 'también', 'seáis', 'fueseis', 'sobre', 'muchos', 'tenida', 'tengas', 'estad', 'hubierais', 'otras', 'suya', 'tendrás', 'tuve', 'fuerais', 'habré', 'una', 'estuvieses', 'para', 'hubieron', 'algunas', 'tuvieses', 'había', 'tenidos', 'tienes', 'tengo', 'nosotras', 'tenían', 'nos'}\n"
     ]
    }
   ],
   "source": [
    "stop_words = set(stopwords.words('spanish'))\n",
    "print(stop_words)"
   ]
  },
  {
   "cell_type": "code",
   "execution_count": 6,
   "metadata": {},
   "outputs": [
    {
     "name": "stdout",
     "output_type": "stream",
     "text": [
      "['El', 'gato', 'es', 'negro', 'y', 'el', 'perro', 'es', 'blanco']\n"
     ]
    }
   ],
   "source": [
    "tokens = word_tokenize(texto)\n",
    "print(tokens)"
   ]
  },
  {
   "cell_type": "code",
   "execution_count": 8,
   "metadata": {},
   "outputs": [
    {
     "data": {
      "text/plain": [
       "['El', 'gato', 'negro', 'perro', 'blanco']"
      ]
     },
     "execution_count": 8,
     "metadata": {},
     "output_type": "execute_result"
    }
   ],
   "source": [
    "texto_filtrado = [word for word in tokens if not word in stop_words]\n",
    "texto_filtrado"
   ]
  },
  {
   "cell_type": "code",
   "execution_count": 9,
   "metadata": {},
   "outputs": [
    {
     "name": "stdout",
     "output_type": "stream",
     "text": [
      "['gato', 'negro', 'perro', 'blanco']\n"
     ]
    }
   ],
   "source": [
    "texto = texto.lower()\n",
    "tokens = word_tokenize(texto)\n",
    "texto_filtrado = [word for word in tokens if not word in stop_words]\n",
    "print(texto_filtrado)"
   ]
  }
 ],
 "metadata": {
  "kernelspec": {
   "display_name": "Python 3",
   "language": "python",
   "name": "python3"
  },
  "language_info": {
   "codemirror_mode": {
    "name": "ipython",
    "version": 3
   },
   "file_extension": ".py",
   "mimetype": "text/x-python",
   "name": "python",
   "nbconvert_exporter": "python",
   "pygments_lexer": "ipython3",
   "version": "3.12.3"
  }
 },
 "nbformat": 4,
 "nbformat_minor": 2
}
