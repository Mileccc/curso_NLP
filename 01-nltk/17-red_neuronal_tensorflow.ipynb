{
 "cells": [
  {
   "cell_type": "code",
   "execution_count": 1,
   "metadata": {},
   "outputs": [],
   "source": [
    "import numpy as np\n",
    "import pandas as pd\n",
    "import tensorflow as tf\n",
    "import matplotlib.pyplot as plt\n",
    "from sklearn.model_selection import train_test_split\n",
    "from sklearn.feature_extraction.text import TfidfVectorizer\n",
    "from tensorflow.keras.layers import Dense, Input\n",
    "from tensorflow.keras.models import Model"
   ]
  },
  {
   "cell_type": "code",
   "execution_count": 6,
   "metadata": {},
   "outputs": [
    {
     "data": {
      "text/html": [
       "<div>\n",
       "<style scoped>\n",
       "    .dataframe tbody tr th:only-of-type {\n",
       "        vertical-align: middle;\n",
       "    }\n",
       "\n",
       "    .dataframe tbody tr th {\n",
       "        vertical-align: top;\n",
       "    }\n",
       "\n",
       "    .dataframe thead th {\n",
       "        text-align: right;\n",
       "    }\n",
       "</style>\n",
       "<table border=\"1\" class=\"dataframe\">\n",
       "  <thead>\n",
       "    <tr style=\"text-align: right;\">\n",
       "      <th></th>\n",
       "      <th>cuenta</th>\n",
       "      <th>partido</th>\n",
       "      <th>timestamp</th>\n",
       "      <th>tweet</th>\n",
       "    </tr>\n",
       "  </thead>\n",
       "  <tbody>\n",
       "    <tr>\n",
       "      <th>0</th>\n",
       "      <td>a34133350b0605cb24081843f63176ca</td>\n",
       "      <td>psoe</td>\n",
       "      <td>13639734920</td>\n",
       "      <td>@vesteve3 @manubenas @ccoo_rm @desobediencia_ ...</td>\n",
       "    </tr>\n",
       "    <tr>\n",
       "      <th>1</th>\n",
       "      <td>a34133350b0605cb24081843f63176ca</td>\n",
       "      <td>psoe</td>\n",
       "      <td>13640610350</td>\n",
       "      <td>“@kirovast: @Hugo_Moran muy fan de la \"radical...</td>\n",
       "    </tr>\n",
       "    <tr>\n",
       "      <th>2</th>\n",
       "      <td>a34133350b0605cb24081843f63176ca</td>\n",
       "      <td>psoe</td>\n",
       "      <td>13641168040</td>\n",
       "      <td>@ALTAS_PRESIONES Nuevos dueños para las renova...</td>\n",
       "    </tr>\n",
       "    <tr>\n",
       "      <th>3</th>\n",
       "      <td>a34133350b0605cb24081843f63176ca</td>\n",
       "      <td>psoe</td>\n",
       "      <td>13641209670</td>\n",
       "      <td>@jumanjisolar @solartradex @josea_dolera El di...</td>\n",
       "    </tr>\n",
       "    <tr>\n",
       "      <th>4</th>\n",
       "      <td>a34133350b0605cb24081843f63176ca</td>\n",
       "      <td>psoe</td>\n",
       "      <td>13641526920</td>\n",
       "      <td>“@cesarnayu: https://t.co/J4OTXj1x7w … Por fav...</td>\n",
       "    </tr>\n",
       "    <tr>\n",
       "      <th>...</th>\n",
       "      <td>...</td>\n",
       "      <td>...</td>\n",
       "      <td>...</td>\n",
       "      <td>...</td>\n",
       "    </tr>\n",
       "    <tr>\n",
       "      <th>245785</th>\n",
       "      <td>2a5fcd1034beb5bd30bf5a1528008d81</td>\n",
       "      <td>psoe</td>\n",
       "      <td>16795715260</td>\n",
       "      <td>Un placer inaugurar la jornada #NextGeneration...</td>\n",
       "    </tr>\n",
       "    <tr>\n",
       "      <th>245786</th>\n",
       "      <td>561b1a4d4369a0116ac5eba469f28bc0</td>\n",
       "      <td>psoe</td>\n",
       "      <td>16795715340</td>\n",
       "      <td>Y esto también es el PP https://t.co/CaOTdTWnXB</td>\n",
       "    </tr>\n",
       "    <tr>\n",
       "      <th>245787</th>\n",
       "      <td>42acd1f0c1c51732519ad0d533573359</td>\n",
       "      <td>pp</td>\n",
       "      <td>16795717300</td>\n",
       "      <td>Actualización: Los 3 violadores ya han sido pu...</td>\n",
       "    </tr>\n",
       "    <tr>\n",
       "      <th>245788</th>\n",
       "      <td>747c68ab573c6e4ad8f417f71614e022</td>\n",
       "      <td>pp</td>\n",
       "      <td>16795718410</td>\n",
       "      <td>Con la firma del Convenio de colaboración entr...</td>\n",
       "    </tr>\n",
       "    <tr>\n",
       "      <th>245789</th>\n",
       "      <td>4ecfb58c7c4f6ac2b7cdfaf17fad5710</td>\n",
       "      <td>pp</td>\n",
       "      <td>16795722750</td>\n",
       "      <td>La presidencia española de la UE debe reforzar...</td>\n",
       "    </tr>\n",
       "  </tbody>\n",
       "</table>\n",
       "<p>245790 rows × 4 columns</p>\n",
       "</div>"
      ],
      "text/plain": [
       "                                  cuenta partido    timestamp  \\\n",
       "0       a34133350b0605cb24081843f63176ca    psoe  13639734920   \n",
       "1       a34133350b0605cb24081843f63176ca    psoe  13640610350   \n",
       "2       a34133350b0605cb24081843f63176ca    psoe  13641168040   \n",
       "3       a34133350b0605cb24081843f63176ca    psoe  13641209670   \n",
       "4       a34133350b0605cb24081843f63176ca    psoe  13641526920   \n",
       "...                                  ...     ...          ...   \n",
       "245785  2a5fcd1034beb5bd30bf5a1528008d81    psoe  16795715260   \n",
       "245786  561b1a4d4369a0116ac5eba469f28bc0    psoe  16795715340   \n",
       "245787  42acd1f0c1c51732519ad0d533573359      pp  16795717300   \n",
       "245788  747c68ab573c6e4ad8f417f71614e022      pp  16795718410   \n",
       "245789  4ecfb58c7c4f6ac2b7cdfaf17fad5710      pp  16795722750   \n",
       "\n",
       "                                                    tweet  \n",
       "0       @vesteve3 @manubenas @ccoo_rm @desobediencia_ ...  \n",
       "1       “@kirovast: @Hugo_Moran muy fan de la \"radical...  \n",
       "2       @ALTAS_PRESIONES Nuevos dueños para las renova...  \n",
       "3       @jumanjisolar @solartradex @josea_dolera El di...  \n",
       "4       “@cesarnayu: https://t.co/J4OTXj1x7w … Por fav...  \n",
       "...                                                   ...  \n",
       "245785  Un placer inaugurar la jornada #NextGeneration...  \n",
       "245786    Y esto también es el PP https://t.co/CaOTdTWnXB  \n",
       "245787  Actualización: Los 3 violadores ya han sido pu...  \n",
       "245788  Con la firma del Convenio de colaboración entr...  \n",
       "245789  La presidencia española de la UE debe reforzar...  \n",
       "\n",
       "[245790 rows x 4 columns]"
      ]
     },
     "execution_count": 6,
     "metadata": {},
     "output_type": "execute_result"
    }
   ],
   "source": [
    "df = pd.read_excel('./17-red_neuronal/twitters.xlsx')\n",
    "df"
   ]
  },
  {
   "cell_type": "code",
   "execution_count": 7,
   "metadata": {},
   "outputs": [
    {
     "data": {
      "text/plain": [
       "0         3\n",
       "1         3\n",
       "2         3\n",
       "3         3\n",
       "4         3\n",
       "         ..\n",
       "245785    3\n",
       "245786    3\n",
       "245787    2\n",
       "245788    2\n",
       "245789    2\n",
       "Length: 245790, dtype: int8"
      ]
     },
     "execution_count": 7,
     "metadata": {},
     "output_type": "execute_result"
    }
   ],
   "source": [
    "# convierte la variable en categorías\n",
    "df['partido'].astype(\"category\").cat.codes"
   ]
  },
  {
   "cell_type": "code",
   "execution_count": 8,
   "metadata": {},
   "outputs": [
    {
     "data": {
      "text/html": [
       "<div>\n",
       "<style scoped>\n",
       "    .dataframe tbody tr th:only-of-type {\n",
       "        vertical-align: middle;\n",
       "    }\n",
       "\n",
       "    .dataframe tbody tr th {\n",
       "        vertical-align: top;\n",
       "    }\n",
       "\n",
       "    .dataframe thead th {\n",
       "        text-align: right;\n",
       "    }\n",
       "</style>\n",
       "<table border=\"1\" class=\"dataframe\">\n",
       "  <thead>\n",
       "    <tr style=\"text-align: right;\">\n",
       "      <th></th>\n",
       "      <th>cuenta</th>\n",
       "      <th>partido</th>\n",
       "      <th>timestamp</th>\n",
       "      <th>tweet</th>\n",
       "      <th>targets</th>\n",
       "    </tr>\n",
       "  </thead>\n",
       "  <tbody>\n",
       "    <tr>\n",
       "      <th>0</th>\n",
       "      <td>a34133350b0605cb24081843f63176ca</td>\n",
       "      <td>psoe</td>\n",
       "      <td>13639734920</td>\n",
       "      <td>@vesteve3 @manubenas @ccoo_rm @desobediencia_ ...</td>\n",
       "      <td>3</td>\n",
       "    </tr>\n",
       "    <tr>\n",
       "      <th>1</th>\n",
       "      <td>a34133350b0605cb24081843f63176ca</td>\n",
       "      <td>psoe</td>\n",
       "      <td>13640610350</td>\n",
       "      <td>“@kirovast: @Hugo_Moran muy fan de la \"radical...</td>\n",
       "      <td>3</td>\n",
       "    </tr>\n",
       "    <tr>\n",
       "      <th>2</th>\n",
       "      <td>a34133350b0605cb24081843f63176ca</td>\n",
       "      <td>psoe</td>\n",
       "      <td>13641168040</td>\n",
       "      <td>@ALTAS_PRESIONES Nuevos dueños para las renova...</td>\n",
       "      <td>3</td>\n",
       "    </tr>\n",
       "    <tr>\n",
       "      <th>3</th>\n",
       "      <td>a34133350b0605cb24081843f63176ca</td>\n",
       "      <td>psoe</td>\n",
       "      <td>13641209670</td>\n",
       "      <td>@jumanjisolar @solartradex @josea_dolera El di...</td>\n",
       "      <td>3</td>\n",
       "    </tr>\n",
       "    <tr>\n",
       "      <th>4</th>\n",
       "      <td>a34133350b0605cb24081843f63176ca</td>\n",
       "      <td>psoe</td>\n",
       "      <td>13641526920</td>\n",
       "      <td>“@cesarnayu: https://t.co/J4OTXj1x7w … Por fav...</td>\n",
       "      <td>3</td>\n",
       "    </tr>\n",
       "    <tr>\n",
       "      <th>...</th>\n",
       "      <td>...</td>\n",
       "      <td>...</td>\n",
       "      <td>...</td>\n",
       "      <td>...</td>\n",
       "      <td>...</td>\n",
       "    </tr>\n",
       "    <tr>\n",
       "      <th>245785</th>\n",
       "      <td>2a5fcd1034beb5bd30bf5a1528008d81</td>\n",
       "      <td>psoe</td>\n",
       "      <td>16795715260</td>\n",
       "      <td>Un placer inaugurar la jornada #NextGeneration...</td>\n",
       "      <td>3</td>\n",
       "    </tr>\n",
       "    <tr>\n",
       "      <th>245786</th>\n",
       "      <td>561b1a4d4369a0116ac5eba469f28bc0</td>\n",
       "      <td>psoe</td>\n",
       "      <td>16795715340</td>\n",
       "      <td>Y esto también es el PP https://t.co/CaOTdTWnXB</td>\n",
       "      <td>3</td>\n",
       "    </tr>\n",
       "    <tr>\n",
       "      <th>245787</th>\n",
       "      <td>42acd1f0c1c51732519ad0d533573359</td>\n",
       "      <td>pp</td>\n",
       "      <td>16795717300</td>\n",
       "      <td>Actualización: Los 3 violadores ya han sido pu...</td>\n",
       "      <td>2</td>\n",
       "    </tr>\n",
       "    <tr>\n",
       "      <th>245788</th>\n",
       "      <td>747c68ab573c6e4ad8f417f71614e022</td>\n",
       "      <td>pp</td>\n",
       "      <td>16795718410</td>\n",
       "      <td>Con la firma del Convenio de colaboración entr...</td>\n",
       "      <td>2</td>\n",
       "    </tr>\n",
       "    <tr>\n",
       "      <th>245789</th>\n",
       "      <td>4ecfb58c7c4f6ac2b7cdfaf17fad5710</td>\n",
       "      <td>pp</td>\n",
       "      <td>16795722750</td>\n",
       "      <td>La presidencia española de la UE debe reforzar...</td>\n",
       "      <td>2</td>\n",
       "    </tr>\n",
       "  </tbody>\n",
       "</table>\n",
       "<p>245790 rows × 5 columns</p>\n",
       "</div>"
      ],
      "text/plain": [
       "                                  cuenta partido    timestamp  \\\n",
       "0       a34133350b0605cb24081843f63176ca    psoe  13639734920   \n",
       "1       a34133350b0605cb24081843f63176ca    psoe  13640610350   \n",
       "2       a34133350b0605cb24081843f63176ca    psoe  13641168040   \n",
       "3       a34133350b0605cb24081843f63176ca    psoe  13641209670   \n",
       "4       a34133350b0605cb24081843f63176ca    psoe  13641526920   \n",
       "...                                  ...     ...          ...   \n",
       "245785  2a5fcd1034beb5bd30bf5a1528008d81    psoe  16795715260   \n",
       "245786  561b1a4d4369a0116ac5eba469f28bc0    psoe  16795715340   \n",
       "245787  42acd1f0c1c51732519ad0d533573359      pp  16795717300   \n",
       "245788  747c68ab573c6e4ad8f417f71614e022      pp  16795718410   \n",
       "245789  4ecfb58c7c4f6ac2b7cdfaf17fad5710      pp  16795722750   \n",
       "\n",
       "                                                    tweet  targets  \n",
       "0       @vesteve3 @manubenas @ccoo_rm @desobediencia_ ...        3  \n",
       "1       “@kirovast: @Hugo_Moran muy fan de la \"radical...        3  \n",
       "2       @ALTAS_PRESIONES Nuevos dueños para las renova...        3  \n",
       "3       @jumanjisolar @solartradex @josea_dolera El di...        3  \n",
       "4       “@cesarnayu: https://t.co/J4OTXj1x7w … Por fav...        3  \n",
       "...                                                   ...      ...  \n",
       "245785  Un placer inaugurar la jornada #NextGeneration...        3  \n",
       "245786    Y esto también es el PP https://t.co/CaOTdTWnXB        3  \n",
       "245787  Actualización: Los 3 violadores ya han sido pu...        2  \n",
       "245788  Con la firma del Convenio de colaboración entr...        2  \n",
       "245789  La presidencia española de la UE debe reforzar...        2  \n",
       "\n",
       "[245790 rows x 5 columns]"
      ]
     },
     "execution_count": 8,
     "metadata": {},
     "output_type": "execute_result"
    }
   ],
   "source": [
    "df['targets'] = df['partido'].astype(\"category\").cat.codes\n",
    "df"
   ]
  },
  {
   "cell_type": "code",
   "execution_count": 9,
   "metadata": {},
   "outputs": [],
   "source": [
    "# Dividir los datos en conjuntos de entrenamiento y prueba\n",
    "df_train, df_test = train_test_split(df, test_size=0.3)"
   ]
  },
  {
   "cell_type": "code",
   "execution_count": 21,
   "metadata": {},
   "outputs": [],
   "source": [
    "# Vectorizar el texto de los twitts\n",
    "tfidf = TfidfVectorizer(max_features=5000)\n",
    "Xtrain = tfidf.fit_transform(df_train['tweet'])\n",
    "Xtest = tfidf.transform(df_test['tweet'])"
   ]
  },
  {
   "cell_type": "code",
   "execution_count": 22,
   "metadata": {},
   "outputs": [],
   "source": [
    "# Definir los objetivos de entrenamiento y prueba\n",
    "Ytrain = df_train['targets']\n",
    "Ytest = df_test['targets']"
   ]
  },
  {
   "cell_type": "code",
   "execution_count": 23,
   "metadata": {},
   "outputs": [
    {
     "name": "stdout",
     "output_type": "stream",
     "text": [
      "5\n"
     ]
    }
   ],
   "source": [
    "# Número de clases\n",
    "K = df['targets'].max() + 1\n",
    "print(K)"
   ]
  },
  {
   "cell_type": "code",
   "execution_count": 24,
   "metadata": {},
   "outputs": [
    {
     "name": "stdout",
     "output_type": "stream",
     "text": [
      "5000\n"
     ]
    }
   ],
   "source": [
    "# Dimensiones\n",
    "D = Xtrain.shape[1]\n",
    "print(D)"
   ]
  },
  {
   "cell_type": "code",
   "execution_count": 25,
   "metadata": {},
   "outputs": [],
   "source": [
    "# construcción del modelo\n",
    "i = Input(shape=(D,))\n",
    "x = Dense(300, activation='relu')(i)\n",
    "x = Dense(K)(x)  # softmax"
   ]
  },
  {
   "cell_type": "code",
   "execution_count": 26,
   "metadata": {},
   "outputs": [],
   "source": [
    "model = Model(i, x)"
   ]
  },
  {
   "cell_type": "code",
   "execution_count": 27,
   "metadata": {},
   "outputs": [
    {
     "data": {
      "text/html": [
       "<pre style=\"white-space:pre;overflow-x:auto;line-height:normal;font-family:Menlo,'DejaVu Sans Mono',consolas,'Courier New',monospace\"><span style=\"font-weight: bold\">Model: \"functional_3\"</span>\n",
       "</pre>\n"
      ],
      "text/plain": [
       "\u001b[1mModel: \"functional_3\"\u001b[0m\n"
      ]
     },
     "metadata": {},
     "output_type": "display_data"
    },
    {
     "data": {
      "text/html": [
       "<pre style=\"white-space:pre;overflow-x:auto;line-height:normal;font-family:Menlo,'DejaVu Sans Mono',consolas,'Courier New',monospace\">┏━━━━━━━━━━━━━━━━━━━━━━━━━━━━━━━━━┳━━━━━━━━━━━━━━━━━━━━━━━━┳━━━━━━━━━━━━━━━┓\n",
       "┃<span style=\"font-weight: bold\"> Layer (type)                    </span>┃<span style=\"font-weight: bold\"> Output Shape           </span>┃<span style=\"font-weight: bold\">       Param # </span>┃\n",
       "┡━━━━━━━━━━━━━━━━━━━━━━━━━━━━━━━━━╇━━━━━━━━━━━━━━━━━━━━━━━━╇━━━━━━━━━━━━━━━┩\n",
       "│ input_layer_1 (<span style=\"color: #0087ff; text-decoration-color: #0087ff\">InputLayer</span>)      │ (<span style=\"color: #00d7ff; text-decoration-color: #00d7ff\">None</span>, <span style=\"color: #00af00; text-decoration-color: #00af00\">5000</span>)           │             <span style=\"color: #00af00; text-decoration-color: #00af00\">0</span> │\n",
       "├─────────────────────────────────┼────────────────────────┼───────────────┤\n",
       "│ dense_2 (<span style=\"color: #0087ff; text-decoration-color: #0087ff\">Dense</span>)                 │ (<span style=\"color: #00d7ff; text-decoration-color: #00d7ff\">None</span>, <span style=\"color: #00af00; text-decoration-color: #00af00\">300</span>)            │     <span style=\"color: #00af00; text-decoration-color: #00af00\">1,500,300</span> │\n",
       "├─────────────────────────────────┼────────────────────────┼───────────────┤\n",
       "│ dense_3 (<span style=\"color: #0087ff; text-decoration-color: #0087ff\">Dense</span>)                 │ (<span style=\"color: #00d7ff; text-decoration-color: #00d7ff\">None</span>, <span style=\"color: #00af00; text-decoration-color: #00af00\">5</span>)              │         <span style=\"color: #00af00; text-decoration-color: #00af00\">1,505</span> │\n",
       "└─────────────────────────────────┴────────────────────────┴───────────────┘\n",
       "</pre>\n"
      ],
      "text/plain": [
       "┏━━━━━━━━━━━━━━━━━━━━━━━━━━━━━━━━━┳━━━━━━━━━━━━━━━━━━━━━━━━┳━━━━━━━━━━━━━━━┓\n",
       "┃\u001b[1m \u001b[0m\u001b[1mLayer (type)                   \u001b[0m\u001b[1m \u001b[0m┃\u001b[1m \u001b[0m\u001b[1mOutput Shape          \u001b[0m\u001b[1m \u001b[0m┃\u001b[1m \u001b[0m\u001b[1m      Param #\u001b[0m\u001b[1m \u001b[0m┃\n",
       "┡━━━━━━━━━━━━━━━━━━━━━━━━━━━━━━━━━╇━━━━━━━━━━━━━━━━━━━━━━━━╇━━━━━━━━━━━━━━━┩\n",
       "│ input_layer_1 (\u001b[38;5;33mInputLayer\u001b[0m)      │ (\u001b[38;5;45mNone\u001b[0m, \u001b[38;5;34m5000\u001b[0m)           │             \u001b[38;5;34m0\u001b[0m │\n",
       "├─────────────────────────────────┼────────────────────────┼───────────────┤\n",
       "│ dense_2 (\u001b[38;5;33mDense\u001b[0m)                 │ (\u001b[38;5;45mNone\u001b[0m, \u001b[38;5;34m300\u001b[0m)            │     \u001b[38;5;34m1,500,300\u001b[0m │\n",
       "├─────────────────────────────────┼────────────────────────┼───────────────┤\n",
       "│ dense_3 (\u001b[38;5;33mDense\u001b[0m)                 │ (\u001b[38;5;45mNone\u001b[0m, \u001b[38;5;34m5\u001b[0m)              │         \u001b[38;5;34m1,505\u001b[0m │\n",
       "└─────────────────────────────────┴────────────────────────┴───────────────┘\n"
      ]
     },
     "metadata": {},
     "output_type": "display_data"
    },
    {
     "data": {
      "text/html": [
       "<pre style=\"white-space:pre;overflow-x:auto;line-height:normal;font-family:Menlo,'DejaVu Sans Mono',consolas,'Courier New',monospace\"><span style=\"font-weight: bold\"> Total params: </span><span style=\"color: #00af00; text-decoration-color: #00af00\">1,501,805</span> (5.73 MB)\n",
       "</pre>\n"
      ],
      "text/plain": [
       "\u001b[1m Total params: \u001b[0m\u001b[38;5;34m1,501,805\u001b[0m (5.73 MB)\n"
      ]
     },
     "metadata": {},
     "output_type": "display_data"
    },
    {
     "data": {
      "text/html": [
       "<pre style=\"white-space:pre;overflow-x:auto;line-height:normal;font-family:Menlo,'DejaVu Sans Mono',consolas,'Courier New',monospace\"><span style=\"font-weight: bold\"> Trainable params: </span><span style=\"color: #00af00; text-decoration-color: #00af00\">1,501,805</span> (5.73 MB)\n",
       "</pre>\n"
      ],
      "text/plain": [
       "\u001b[1m Trainable params: \u001b[0m\u001b[38;5;34m1,501,805\u001b[0m (5.73 MB)\n"
      ]
     },
     "metadata": {},
     "output_type": "display_data"
    },
    {
     "data": {
      "text/html": [
       "<pre style=\"white-space:pre;overflow-x:auto;line-height:normal;font-family:Menlo,'DejaVu Sans Mono',consolas,'Courier New',monospace\"><span style=\"font-weight: bold\"> Non-trainable params: </span><span style=\"color: #00af00; text-decoration-color: #00af00\">0</span> (0.00 B)\n",
       "</pre>\n"
      ],
      "text/plain": [
       "\u001b[1m Non-trainable params: \u001b[0m\u001b[38;5;34m0\u001b[0m (0.00 B)\n"
      ]
     },
     "metadata": {},
     "output_type": "display_data"
    }
   ],
   "source": [
    "model.summary()"
   ]
  },
  {
   "cell_type": "markdown",
   "metadata": {},
   "source": [
    "<img src=\"./17-red_neuronal/NVIDIA_Share_jwxk2m5XsD.png\" style=\"width:700px;hight:auto\"></img>"
   ]
  },
  {
   "cell_type": "code",
   "execution_count": 28,
   "metadata": {},
   "outputs": [],
   "source": [
    "model.compile(\n",
    "    loss=tf.keras.losses.SparseCategoricalCrossentropy(from_logits=True),\n",
    "    optimizer='adam',\n",
    "    metrics=['accuracy']\n",
    ")"
   ]
  },
  {
   "cell_type": "code",
   "execution_count": 29,
   "metadata": {},
   "outputs": [],
   "source": [
    "Xtrain = Xtrain.toarray()\n",
    "Xtest = Xtest.toarray()"
   ]
  },
  {
   "cell_type": "code",
   "execution_count": 30,
   "metadata": {},
   "outputs": [
    {
     "name": "stdout",
     "output_type": "stream",
     "text": [
      "Epoch 1/100\n",
      "\u001b[1m14338/14338\u001b[0m \u001b[32m━━━━━━━━━━━━━━━━━━━━\u001b[0m\u001b[37m\u001b[0m \u001b[1m135s\u001b[0m 9ms/step - accuracy: 0.6378 - loss: 0.9278 - val_accuracy: 0.7065 - val_loss: 0.7563\n",
      "Epoch 2/100\n",
      "\u001b[1m14338/14338\u001b[0m \u001b[32m━━━━━━━━━━━━━━━━━━━━\u001b[0m\u001b[37m\u001b[0m \u001b[1m143s\u001b[0m 10ms/step - accuracy: 0.7480 - loss: 0.6559 - val_accuracy: 0.7135 - val_loss: 0.7435\n",
      "Epoch 3/100\n",
      "\u001b[1m14338/14338\u001b[0m \u001b[32m━━━━━━━━━━━━━━━━━━━━\u001b[0m\u001b[37m\u001b[0m \u001b[1m138s\u001b[0m 10ms/step - accuracy: 0.7993 - loss: 0.5375 - val_accuracy: 0.7171 - val_loss: 0.7690\n",
      "Epoch 4/100\n",
      "\u001b[1m14338/14338\u001b[0m \u001b[32m━━━━━━━━━━━━━━━━━━━━\u001b[0m\u001b[37m\u001b[0m \u001b[1m129s\u001b[0m 9ms/step - accuracy: 0.8609 - loss: 0.3956 - val_accuracy: 0.7155 - val_loss: 0.8438\n",
      "Epoch 5/100\n",
      "\u001b[1m14338/14338\u001b[0m \u001b[32m━━━━━━━━━━━━━━━━━━━━\u001b[0m\u001b[37m\u001b[0m \u001b[1m143s\u001b[0m 10ms/step - accuracy: 0.9095 - loss: 0.2655 - val_accuracy: 0.7108 - val_loss: 0.9781\n",
      "Epoch 6/100\n",
      "\u001b[1m14338/14338\u001b[0m \u001b[32m━━━━━━━━━━━━━━━━━━━━\u001b[0m\u001b[37m\u001b[0m \u001b[1m138s\u001b[0m 10ms/step - accuracy: 0.9399 - loss: 0.1746 - val_accuracy: 0.7107 - val_loss: 1.1675\n",
      "Epoch 7/100\n",
      "\u001b[1m14338/14338\u001b[0m \u001b[32m━━━━━━━━━━━━━━━━━━━━\u001b[0m\u001b[37m\u001b[0m \u001b[1m143s\u001b[0m 10ms/step - accuracy: 0.9533 - loss: 0.1285 - val_accuracy: 0.7095 - val_loss: 1.3706\n",
      "Epoch 8/100\n",
      "\u001b[1m14338/14338\u001b[0m \u001b[32m━━━━━━━━━━━━━━━━━━━━\u001b[0m\u001b[37m\u001b[0m \u001b[1m143s\u001b[0m 10ms/step - accuracy: 0.9608 - loss: 0.1043 - val_accuracy: 0.7087 - val_loss: 1.5625\n",
      "Epoch 9/100\n",
      "\u001b[1m14338/14338\u001b[0m \u001b[32m━━━━━━━━━━━━━━━━━━━━\u001b[0m\u001b[37m\u001b[0m \u001b[1m142s\u001b[0m 10ms/step - accuracy: 0.9651 - loss: 0.0905 - val_accuracy: 0.7069 - val_loss: 1.7223\n",
      "Epoch 10/100\n",
      "\u001b[1m14338/14338\u001b[0m \u001b[32m━━━━━━━━━━━━━━━━━━━━\u001b[0m\u001b[37m\u001b[0m \u001b[1m141s\u001b[0m 10ms/step - accuracy: 0.9672 - loss: 0.0833 - val_accuracy: 0.7070 - val_loss: 1.8821\n",
      "Epoch 11/100\n",
      "\u001b[1m14338/14338\u001b[0m \u001b[32m━━━━━━━━━━━━━━━━━━━━\u001b[0m\u001b[37m\u001b[0m \u001b[1m140s\u001b[0m 10ms/step - accuracy: 0.9686 - loss: 0.0768 - val_accuracy: 0.7086 - val_loss: 2.0405\n",
      "Epoch 12/100\n",
      "\u001b[1m14338/14338\u001b[0m \u001b[32m━━━━━━━━━━━━━━━━━━━━\u001b[0m\u001b[37m\u001b[0m \u001b[1m140s\u001b[0m 10ms/step - accuracy: 0.9699 - loss: 0.0727 - val_accuracy: 0.7078 - val_loss: 2.1645\n",
      "Epoch 13/100\n",
      "\u001b[1m14338/14338\u001b[0m \u001b[32m━━━━━━━━━━━━━━━━━━━━\u001b[0m\u001b[37m\u001b[0m \u001b[1m141s\u001b[0m 10ms/step - accuracy: 0.9703 - loss: 0.0720 - val_accuracy: 0.7077 - val_loss: 2.3193\n",
      "Epoch 14/100\n",
      "\u001b[1m14338/14338\u001b[0m \u001b[32m━━━━━━━━━━━━━━━━━━━━\u001b[0m\u001b[37m\u001b[0m \u001b[1m143s\u001b[0m 10ms/step - accuracy: 0.9715 - loss: 0.0682 - val_accuracy: 0.7064 - val_loss: 2.3925\n",
      "Epoch 15/100\n",
      "\u001b[1m14338/14338\u001b[0m \u001b[32m━━━━━━━━━━━━━━━━━━━━\u001b[0m\u001b[37m\u001b[0m \u001b[1m144s\u001b[0m 10ms/step - accuracy: 0.9719 - loss: 0.0674 - val_accuracy: 0.7076 - val_loss: 2.4832\n",
      "Epoch 16/100\n",
      "\u001b[1m14338/14338\u001b[0m \u001b[32m━━━━━━━━━━━━━━━━━━━━\u001b[0m\u001b[37m\u001b[0m \u001b[1m140s\u001b[0m 10ms/step - accuracy: 0.9721 - loss: 0.0661 - val_accuracy: 0.7085 - val_loss: 2.5915\n",
      "Epoch 17/100\n",
      "\u001b[1m14338/14338\u001b[0m \u001b[32m━━━━━━━━━━━━━━━━━━━━\u001b[0m\u001b[37m\u001b[0m \u001b[1m141s\u001b[0m 10ms/step - accuracy: 0.9730 - loss: 0.0649 - val_accuracy: 0.7052 - val_loss: 2.6415\n",
      "Epoch 18/100\n",
      "\u001b[1m14338/14338\u001b[0m \u001b[32m━━━━━━━━━━━━━━━━━━━━\u001b[0m\u001b[37m\u001b[0m \u001b[1m140s\u001b[0m 10ms/step - accuracy: 0.9729 - loss: 0.0635 - val_accuracy: 0.7057 - val_loss: 2.7487\n",
      "Epoch 19/100\n",
      "\u001b[1m14338/14338\u001b[0m \u001b[32m━━━━━━━━━━━━━━━━━━━━\u001b[0m\u001b[37m\u001b[0m \u001b[1m142s\u001b[0m 10ms/step - accuracy: 0.9735 - loss: 0.0633 - val_accuracy: 0.7039 - val_loss: 2.7945\n",
      "Epoch 20/100\n",
      "\u001b[1m14338/14338\u001b[0m \u001b[32m━━━━━━━━━━━━━━━━━━━━\u001b[0m\u001b[37m\u001b[0m \u001b[1m142s\u001b[0m 10ms/step - accuracy: 0.9730 - loss: 0.0629 - val_accuracy: 0.7019 - val_loss: 2.8760\n",
      "Epoch 21/100\n",
      "\u001b[1m14338/14338\u001b[0m \u001b[32m━━━━━━━━━━━━━━━━━━━━\u001b[0m\u001b[37m\u001b[0m \u001b[1m143s\u001b[0m 10ms/step - accuracy: 0.9733 - loss: 0.0624 - val_accuracy: 0.7037 - val_loss: 2.9220\n",
      "Epoch 22/100\n",
      "\u001b[1m14338/14338\u001b[0m \u001b[32m━━━━━━━━━━━━━━━━━━━━\u001b[0m\u001b[37m\u001b[0m \u001b[1m142s\u001b[0m 10ms/step - accuracy: 0.9732 - loss: 0.0629 - val_accuracy: 0.7038 - val_loss: 2.9830\n",
      "Epoch 23/100\n",
      "\u001b[1m14338/14338\u001b[0m \u001b[32m━━━━━━━━━━━━━━━━━━━━\u001b[0m\u001b[37m\u001b[0m \u001b[1m139s\u001b[0m 10ms/step - accuracy: 0.9732 - loss: 0.0618 - val_accuracy: 0.7008 - val_loss: 3.0458\n",
      "Epoch 24/100\n",
      "\u001b[1m14338/14338\u001b[0m \u001b[32m━━━━━━━━━━━━━━━━━━━━\u001b[0m\u001b[37m\u001b[0m \u001b[1m140s\u001b[0m 10ms/step - accuracy: 0.9738 - loss: 0.0617 - val_accuracy: 0.7018 - val_loss: 3.1087\n",
      "Epoch 25/100\n",
      "\u001b[1m14338/14338\u001b[0m \u001b[32m━━━━━━━━━━━━━━━━━━━━\u001b[0m\u001b[37m\u001b[0m \u001b[1m140s\u001b[0m 10ms/step - accuracy: 0.9741 - loss: 0.0609 - val_accuracy: 0.7014 - val_loss: 3.2011\n",
      "Epoch 26/100\n",
      "\u001b[1m14338/14338\u001b[0m \u001b[32m━━━━━━━━━━━━━━━━━━━━\u001b[0m\u001b[37m\u001b[0m \u001b[1m140s\u001b[0m 10ms/step - accuracy: 0.9734 - loss: 0.0613 - val_accuracy: 0.7002 - val_loss: 3.2524\n",
      "Epoch 27/100\n",
      "\u001b[1m14338/14338\u001b[0m \u001b[32m━━━━━━━━━━━━━━━━━━━━\u001b[0m\u001b[37m\u001b[0m \u001b[1m140s\u001b[0m 10ms/step - accuracy: 0.9740 - loss: 0.0601 - val_accuracy: 0.7006 - val_loss: 3.2675\n",
      "Epoch 28/100\n",
      "\u001b[1m14338/14338\u001b[0m \u001b[32m━━━━━━━━━━━━━━━━━━━━\u001b[0m\u001b[37m\u001b[0m \u001b[1m130s\u001b[0m 9ms/step - accuracy: 0.9743 - loss: 0.0600 - val_accuracy: 0.6997 - val_loss: 3.3203\n",
      "Epoch 29/100\n",
      "\u001b[1m14338/14338\u001b[0m \u001b[32m━━━━━━━━━━━━━━━━━━━━\u001b[0m\u001b[37m\u001b[0m \u001b[1m126s\u001b[0m 9ms/step - accuracy: 0.9733 - loss: 0.0610 - val_accuracy: 0.6983 - val_loss: 3.3733\n",
      "Epoch 30/100\n",
      "\u001b[1m14338/14338\u001b[0m \u001b[32m━━━━━━━━━━━━━━━━━━━━\u001b[0m\u001b[37m\u001b[0m \u001b[1m125s\u001b[0m 9ms/step - accuracy: 0.9742 - loss: 0.0603 - val_accuracy: 0.6983 - val_loss: 3.4315\n",
      "Epoch 31/100\n",
      "\u001b[1m14338/14338\u001b[0m \u001b[32m━━━━━━━━━━━━━━━━━━━━\u001b[0m\u001b[37m\u001b[0m \u001b[1m126s\u001b[0m 9ms/step - accuracy: 0.9743 - loss: 0.0593 - val_accuracy: 0.6979 - val_loss: 3.4813\n",
      "Epoch 32/100\n",
      "\u001b[1m14338/14338\u001b[0m \u001b[32m━━━━━━━━━━━━━━━━━━━━\u001b[0m\u001b[37m\u001b[0m \u001b[1m125s\u001b[0m 9ms/step - accuracy: 0.9738 - loss: 0.0606 - val_accuracy: 0.6984 - val_loss: 3.5313\n",
      "Epoch 33/100\n",
      "\u001b[1m14338/14338\u001b[0m \u001b[32m━━━━━━━━━━━━━━━━━━━━\u001b[0m\u001b[37m\u001b[0m \u001b[1m125s\u001b[0m 9ms/step - accuracy: 0.9741 - loss: 0.0595 - val_accuracy: 0.6970 - val_loss: 3.5683\n",
      "Epoch 34/100\n",
      "\u001b[1m14338/14338\u001b[0m \u001b[32m━━━━━━━━━━━━━━━━━━━━\u001b[0m\u001b[37m\u001b[0m \u001b[1m126s\u001b[0m 9ms/step - accuracy: 0.9740 - loss: 0.0603 - val_accuracy: 0.6964 - val_loss: 3.6260\n",
      "Epoch 35/100\n",
      "\u001b[1m14338/14338\u001b[0m \u001b[32m━━━━━━━━━━━━━━━━━━━━\u001b[0m\u001b[37m\u001b[0m \u001b[1m127s\u001b[0m 9ms/step - accuracy: 0.9734 - loss: 0.0607 - val_accuracy: 0.6961 - val_loss: 3.6934\n",
      "Epoch 36/100\n",
      "\u001b[1m14338/14338\u001b[0m \u001b[32m━━━━━━━━━━━━━━━━━━━━\u001b[0m\u001b[37m\u001b[0m \u001b[1m126s\u001b[0m 9ms/step - accuracy: 0.9740 - loss: 0.0603 - val_accuracy: 0.6967 - val_loss: 3.7285\n",
      "Epoch 37/100\n",
      "\u001b[1m14338/14338\u001b[0m \u001b[32m━━━━━━━━━━━━━━━━━━━━\u001b[0m\u001b[37m\u001b[0m \u001b[1m125s\u001b[0m 9ms/step - accuracy: 0.9739 - loss: 0.0599 - val_accuracy: 0.6944 - val_loss: 3.7598\n",
      "Epoch 38/100\n",
      "\u001b[1m14338/14338\u001b[0m \u001b[32m━━━━━━━━━━━━━━━━━━━━\u001b[0m\u001b[37m\u001b[0m \u001b[1m132s\u001b[0m 9ms/step - accuracy: 0.9744 - loss: 0.0599 - val_accuracy: 0.6959 - val_loss: 3.8463\n",
      "Epoch 39/100\n",
      "\u001b[1m14338/14338\u001b[0m \u001b[32m━━━━━━━━━━━━━━━━━━━━\u001b[0m\u001b[37m\u001b[0m \u001b[1m142s\u001b[0m 10ms/step - accuracy: 0.9737 - loss: 0.0601 - val_accuracy: 0.6950 - val_loss: 3.8534\n",
      "Epoch 40/100\n",
      "\u001b[1m14338/14338\u001b[0m \u001b[32m━━━━━━━━━━━━━━━━━━━━\u001b[0m\u001b[37m\u001b[0m \u001b[1m143s\u001b[0m 10ms/step - accuracy: 0.9739 - loss: 0.0600 - val_accuracy: 0.6943 - val_loss: 3.9290\n",
      "Epoch 41/100\n",
      "\u001b[1m14338/14338\u001b[0m \u001b[32m━━━━━━━━━━━━━━━━━━━━\u001b[0m\u001b[37m\u001b[0m \u001b[1m144s\u001b[0m 10ms/step - accuracy: 0.9741 - loss: 0.0600 - val_accuracy: 0.6940 - val_loss: 3.9875\n",
      "Epoch 42/100\n",
      "\u001b[1m14338/14338\u001b[0m \u001b[32m━━━━━━━━━━━━━━━━━━━━\u001b[0m\u001b[37m\u001b[0m \u001b[1m148s\u001b[0m 10ms/step - accuracy: 0.9740 - loss: 0.0600 - val_accuracy: 0.6935 - val_loss: 4.0428\n",
      "Epoch 43/100\n",
      "\u001b[1m14338/14338\u001b[0m \u001b[32m━━━━━━━━━━━━━━━━━━━━\u001b[0m\u001b[37m\u001b[0m \u001b[1m142s\u001b[0m 10ms/step - accuracy: 0.9745 - loss: 0.0589 - val_accuracy: 0.6936 - val_loss: 4.0079\n",
      "Epoch 44/100\n",
      "\u001b[1m14338/14338\u001b[0m \u001b[32m━━━━━━━━━━━━━━━━━━━━\u001b[0m\u001b[37m\u001b[0m \u001b[1m144s\u001b[0m 10ms/step - accuracy: 0.9743 - loss: 0.0587 - val_accuracy: 0.6934 - val_loss: 4.0662\n",
      "Epoch 45/100\n",
      "\u001b[1m14338/14338\u001b[0m \u001b[32m━━━━━━━━━━━━━━━━━━━━\u001b[0m\u001b[37m\u001b[0m \u001b[1m144s\u001b[0m 10ms/step - accuracy: 0.9745 - loss: 0.0588 - val_accuracy: 0.6928 - val_loss: 4.1301\n",
      "Epoch 46/100\n",
      "\u001b[1m14338/14338\u001b[0m \u001b[32m━━━━━━━━━━━━━━━━━━━━\u001b[0m\u001b[37m\u001b[0m \u001b[1m142s\u001b[0m 10ms/step - accuracy: 0.9741 - loss: 0.0593 - val_accuracy: 0.6921 - val_loss: 4.1353\n",
      "Epoch 47/100\n",
      "\u001b[1m14338/14338\u001b[0m \u001b[32m━━━━━━━━━━━━━━━━━━━━\u001b[0m\u001b[37m\u001b[0m \u001b[1m142s\u001b[0m 10ms/step - accuracy: 0.9739 - loss: 0.0607 - val_accuracy: 0.6931 - val_loss: 4.2446\n",
      "Epoch 48/100\n",
      "\u001b[1m14338/14338\u001b[0m \u001b[32m━━━━━━━━━━━━━━━━━━━━\u001b[0m\u001b[37m\u001b[0m \u001b[1m141s\u001b[0m 10ms/step - accuracy: 0.9743 - loss: 0.0592 - val_accuracy: 0.6917 - val_loss: 4.2849\n",
      "Epoch 49/100\n",
      "\u001b[1m14338/14338\u001b[0m \u001b[32m━━━━━━━━━━━━━━━━━━━━\u001b[0m\u001b[37m\u001b[0m \u001b[1m140s\u001b[0m 10ms/step - accuracy: 0.9743 - loss: 0.0583 - val_accuracy: 0.6912 - val_loss: 4.3406\n",
      "Epoch 50/100\n",
      "\u001b[1m14338/14338\u001b[0m \u001b[32m━━━━━━━━━━━━━━━━━━━━\u001b[0m\u001b[37m\u001b[0m \u001b[1m140s\u001b[0m 10ms/step - accuracy: 0.9737 - loss: 0.0595 - val_accuracy: 0.6902 - val_loss: 4.3801\n",
      "Epoch 51/100\n",
      "\u001b[1m14338/14338\u001b[0m \u001b[32m━━━━━━━━━━━━━━━━━━━━\u001b[0m\u001b[37m\u001b[0m \u001b[1m140s\u001b[0m 10ms/step - accuracy: 0.9737 - loss: 0.0598 - val_accuracy: 0.6893 - val_loss: 4.4338\n",
      "Epoch 52/100\n",
      "\u001b[1m14338/14338\u001b[0m \u001b[32m━━━━━━━━━━━━━━━━━━━━\u001b[0m\u001b[37m\u001b[0m \u001b[1m126s\u001b[0m 9ms/step - accuracy: 0.9742 - loss: 0.0592 - val_accuracy: 0.6909 - val_loss: 4.4454\n",
      "Epoch 53/100\n",
      "\u001b[1m14338/14338\u001b[0m \u001b[32m━━━━━━━━━━━━━━━━━━━━\u001b[0m\u001b[37m\u001b[0m \u001b[1m126s\u001b[0m 9ms/step - accuracy: 0.9745 - loss: 0.0582 - val_accuracy: 0.6886 - val_loss: 4.4629\n",
      "Epoch 54/100\n",
      "\u001b[1m14338/14338\u001b[0m \u001b[32m━━━━━━━━━━━━━━━━━━━━\u001b[0m\u001b[37m\u001b[0m \u001b[1m126s\u001b[0m 9ms/step - accuracy: 0.9749 - loss: 0.0573 - val_accuracy: 0.6889 - val_loss: 4.5228\n",
      "Epoch 55/100\n",
      "\u001b[1m14338/14338\u001b[0m \u001b[32m━━━━━━━━━━━━━━━━━━━━\u001b[0m\u001b[37m\u001b[0m \u001b[1m127s\u001b[0m 9ms/step - accuracy: 0.9741 - loss: 0.0595 - val_accuracy: 0.6905 - val_loss: 4.6171\n",
      "Epoch 56/100\n",
      "\u001b[1m14338/14338\u001b[0m \u001b[32m━━━━━━━━━━━━━━━━━━━━\u001b[0m\u001b[37m\u001b[0m \u001b[1m126s\u001b[0m 9ms/step - accuracy: 0.9744 - loss: 0.0591 - val_accuracy: 0.6896 - val_loss: 4.6681\n",
      "Epoch 57/100\n",
      "\u001b[1m14338/14338\u001b[0m \u001b[32m━━━━━━━━━━━━━━━━━━━━\u001b[0m\u001b[37m\u001b[0m \u001b[1m125s\u001b[0m 9ms/step - accuracy: 0.9744 - loss: 0.0587 - val_accuracy: 0.6873 - val_loss: 4.6844\n",
      "Epoch 58/100\n",
      "\u001b[1m14338/14338\u001b[0m \u001b[32m━━━━━━━━━━━━━━━━━━━━\u001b[0m\u001b[37m\u001b[0m \u001b[1m129s\u001b[0m 9ms/step - accuracy: 0.9746 - loss: 0.0589 - val_accuracy: 0.6884 - val_loss: 4.7581\n",
      "Epoch 59/100\n",
      "\u001b[1m14338/14338\u001b[0m \u001b[32m━━━━━━━━━━━━━━━━━━━━\u001b[0m\u001b[37m\u001b[0m \u001b[1m133s\u001b[0m 9ms/step - accuracy: 0.9750 - loss: 0.0582 - val_accuracy: 0.6863 - val_loss: 4.7530\n",
      "Epoch 60/100\n",
      "\u001b[1m14338/14338\u001b[0m \u001b[32m━━━━━━━━━━━━━━━━━━━━\u001b[0m\u001b[37m\u001b[0m \u001b[1m130s\u001b[0m 9ms/step - accuracy: 0.9747 - loss: 0.0579 - val_accuracy: 0.6873 - val_loss: 4.8145\n",
      "Epoch 61/100\n",
      "\u001b[1m14338/14338\u001b[0m \u001b[32m━━━━━━━━━━━━━━━━━━━━\u001b[0m\u001b[37m\u001b[0m \u001b[1m128s\u001b[0m 9ms/step - accuracy: 0.9747 - loss: 0.0579 - val_accuracy: 0.6870 - val_loss: 4.8665\n",
      "Epoch 62/100\n",
      "\u001b[1m14338/14338\u001b[0m \u001b[32m━━━━━━━━━━━━━━━━━━━━\u001b[0m\u001b[37m\u001b[0m \u001b[1m127s\u001b[0m 9ms/step - accuracy: 0.9743 - loss: 0.0590 - val_accuracy: 0.6868 - val_loss: 4.9397\n",
      "Epoch 63/100\n",
      "\u001b[1m14338/14338\u001b[0m \u001b[32m━━━━━━━━━━━━━━━━━━━━\u001b[0m\u001b[37m\u001b[0m \u001b[1m148s\u001b[0m 10ms/step - accuracy: 0.9745 - loss: 0.0593 - val_accuracy: 0.6866 - val_loss: 4.9816\n",
      "Epoch 64/100\n",
      "\u001b[1m14338/14338\u001b[0m \u001b[32m━━━━━━━━━━━━━━━━━━━━\u001b[0m\u001b[37m\u001b[0m \u001b[1m138s\u001b[0m 10ms/step - accuracy: 0.9748 - loss: 0.0588 - val_accuracy: 0.6853 - val_loss: 5.0050\n",
      "Epoch 65/100\n",
      "\u001b[1m14338/14338\u001b[0m \u001b[32m━━━━━━━━━━━━━━━━━━━━\u001b[0m\u001b[37m\u001b[0m \u001b[1m139s\u001b[0m 10ms/step - accuracy: 0.9749 - loss: 0.0581 - val_accuracy: 0.6849 - val_loss: 5.0556\n",
      "Epoch 66/100\n",
      "\u001b[1m14338/14338\u001b[0m \u001b[32m━━━━━━━━━━━━━━━━━━━━\u001b[0m\u001b[37m\u001b[0m \u001b[1m136s\u001b[0m 9ms/step - accuracy: 0.9744 - loss: 0.0583 - val_accuracy: 0.6851 - val_loss: 5.0933\n",
      "Epoch 67/100\n",
      "\u001b[1m14338/14338\u001b[0m \u001b[32m━━━━━━━━━━━━━━━━━━━━\u001b[0m\u001b[37m\u001b[0m \u001b[1m137s\u001b[0m 10ms/step - accuracy: 0.9746 - loss: 0.0587 - val_accuracy: 0.6849 - val_loss: 5.1243\n",
      "Epoch 68/100\n",
      "\u001b[1m14338/14338\u001b[0m \u001b[32m━━━━━━━━━━━━━━━━━━━━\u001b[0m\u001b[37m\u001b[0m \u001b[1m137s\u001b[0m 10ms/step - accuracy: 0.9738 - loss: 0.0595 - val_accuracy: 0.6842 - val_loss: 5.1491\n",
      "Epoch 69/100\n",
      "\u001b[1m14338/14338\u001b[0m \u001b[32m━━━━━━━━━━━━━━━━━━━━\u001b[0m\u001b[37m\u001b[0m \u001b[1m137s\u001b[0m 10ms/step - accuracy: 0.9739 - loss: 0.0595 - val_accuracy: 0.6835 - val_loss: 5.2263\n",
      "Epoch 70/100\n",
      "\u001b[1m14338/14338\u001b[0m \u001b[32m━━━━━━━━━━━━━━━━━━━━\u001b[0m\u001b[37m\u001b[0m \u001b[1m136s\u001b[0m 9ms/step - accuracy: 0.9741 - loss: 0.0583 - val_accuracy: 0.6827 - val_loss: 5.1586\n",
      "Epoch 71/100\n",
      "\u001b[1m14338/14338\u001b[0m \u001b[32m━━━━━━━━━━━━━━━━━━━━\u001b[0m\u001b[37m\u001b[0m \u001b[1m147s\u001b[0m 10ms/step - accuracy: 0.9747 - loss: 0.0575 - val_accuracy: 0.6831 - val_loss: 5.2016\n",
      "Epoch 72/100\n",
      "\u001b[1m14338/14338\u001b[0m \u001b[32m━━━━━━━━━━━━━━━━━━━━\u001b[0m\u001b[37m\u001b[0m \u001b[1m148s\u001b[0m 10ms/step - accuracy: 0.9739 - loss: 0.0598 - val_accuracy: 0.6829 - val_loss: 5.2337\n",
      "Epoch 73/100\n",
      "\u001b[1m14338/14338\u001b[0m \u001b[32m━━━━━━━━━━━━━━━━━━━━\u001b[0m\u001b[37m\u001b[0m \u001b[1m146s\u001b[0m 10ms/step - accuracy: 0.9748 - loss: 0.0581 - val_accuracy: 0.6816 - val_loss: 5.2440\n",
      "Epoch 74/100\n",
      "\u001b[1m14338/14338\u001b[0m \u001b[32m━━━━━━━━━━━━━━━━━━━━\u001b[0m\u001b[37m\u001b[0m \u001b[1m143s\u001b[0m 10ms/step - accuracy: 0.9748 - loss: 0.0574 - val_accuracy: 0.6826 - val_loss: 5.3178\n",
      "Epoch 75/100\n",
      "\u001b[1m14338/14338\u001b[0m \u001b[32m━━━━━━━━━━━━━━━━━━━━\u001b[0m\u001b[37m\u001b[0m \u001b[1m136s\u001b[0m 10ms/step - accuracy: 0.9739 - loss: 0.0585 - val_accuracy: 0.6819 - val_loss: 5.3675\n",
      "Epoch 76/100\n",
      "\u001b[1m14338/14338\u001b[0m \u001b[32m━━━━━━━━━━━━━━━━━━━━\u001b[0m\u001b[37m\u001b[0m \u001b[1m136s\u001b[0m 10ms/step - accuracy: 0.9748 - loss: 0.0582 - val_accuracy: 0.6814 - val_loss: 5.4369\n",
      "Epoch 77/100\n",
      "\u001b[1m14338/14338\u001b[0m \u001b[32m━━━━━━━━━━━━━━━━━━━━\u001b[0m\u001b[37m\u001b[0m \u001b[1m135s\u001b[0m 9ms/step - accuracy: 0.9742 - loss: 0.0587 - val_accuracy: 0.6817 - val_loss: 5.4665\n",
      "Epoch 78/100\n",
      "\u001b[1m14338/14338\u001b[0m \u001b[32m━━━━━━━━━━━━━━━━━━━━\u001b[0m\u001b[37m\u001b[0m \u001b[1m137s\u001b[0m 10ms/step - accuracy: 0.9743 - loss: 0.0581 - val_accuracy: 0.6811 - val_loss: 5.5496\n",
      "Epoch 79/100\n",
      "\u001b[1m14338/14338\u001b[0m \u001b[32m━━━━━━━━━━━━━━━━━━━━\u001b[0m\u001b[37m\u001b[0m \u001b[1m135s\u001b[0m 9ms/step - accuracy: 0.9746 - loss: 0.0575 - val_accuracy: 0.6817 - val_loss: 5.6124\n",
      "Epoch 80/100\n",
      "\u001b[1m14338/14338\u001b[0m \u001b[32m━━━━━━━━━━━━━━━━━━━━\u001b[0m\u001b[37m\u001b[0m \u001b[1m136s\u001b[0m 9ms/step - accuracy: 0.9749 - loss: 0.0576 - val_accuracy: 0.6791 - val_loss: 5.6493\n",
      "Epoch 81/100\n",
      "\u001b[1m14338/14338\u001b[0m \u001b[32m━━━━━━━━━━━━━━━━━━━━\u001b[0m\u001b[37m\u001b[0m \u001b[1m136s\u001b[0m 9ms/step - accuracy: 0.9741 - loss: 0.0589 - val_accuracy: 0.6801 - val_loss: 5.6933\n",
      "Epoch 82/100\n",
      "\u001b[1m14338/14338\u001b[0m \u001b[32m━━━━━━━━━━━━━━━━━━━━\u001b[0m\u001b[37m\u001b[0m \u001b[1m137s\u001b[0m 10ms/step - accuracy: 0.9751 - loss: 0.0575 - val_accuracy: 0.6785 - val_loss: 5.6864\n",
      "Epoch 83/100\n",
      "\u001b[1m14338/14338\u001b[0m \u001b[32m━━━━━━━━━━━━━━━━━━━━\u001b[0m\u001b[37m\u001b[0m \u001b[1m135s\u001b[0m 9ms/step - accuracy: 0.9741 - loss: 0.0593 - val_accuracy: 0.6786 - val_loss: 5.7357\n",
      "Epoch 84/100\n",
      "\u001b[1m14338/14338\u001b[0m \u001b[32m━━━━━━━━━━━━━━━━━━━━\u001b[0m\u001b[37m\u001b[0m \u001b[1m136s\u001b[0m 9ms/step - accuracy: 0.9745 - loss: 0.0595 - val_accuracy: 0.6780 - val_loss: 5.7416\n",
      "Epoch 85/100\n",
      "\u001b[1m14338/14338\u001b[0m \u001b[32m━━━━━━━━━━━━━━━━━━━━\u001b[0m\u001b[37m\u001b[0m \u001b[1m136s\u001b[0m 9ms/step - accuracy: 0.9746 - loss: 0.0579 - val_accuracy: 0.6775 - val_loss: 5.7560\n",
      "Epoch 86/100\n",
      "\u001b[1m14338/14338\u001b[0m \u001b[32m━━━━━━━━━━━━━━━━━━━━\u001b[0m\u001b[37m\u001b[0m \u001b[1m136s\u001b[0m 9ms/step - accuracy: 0.9746 - loss: 0.0583 - val_accuracy: 0.6784 - val_loss: 5.8123\n",
      "Epoch 87/100\n",
      "\u001b[1m14338/14338\u001b[0m \u001b[32m━━━━━━━━━━━━━━━━━━━━\u001b[0m\u001b[37m\u001b[0m \u001b[1m135s\u001b[0m 9ms/step - accuracy: 0.9740 - loss: 0.0591 - val_accuracy: 0.6774 - val_loss: 5.8851\n",
      "Epoch 88/100\n",
      "\u001b[1m14338/14338\u001b[0m \u001b[32m━━━━━━━━━━━━━━━━━━━━\u001b[0m\u001b[37m\u001b[0m \u001b[1m136s\u001b[0m 9ms/step - accuracy: 0.9748 - loss: 0.0582 - val_accuracy: 0.6758 - val_loss: 5.8617\n",
      "Epoch 89/100\n",
      "\u001b[1m14338/14338\u001b[0m \u001b[32m━━━━━━━━━━━━━━━━━━━━\u001b[0m\u001b[37m\u001b[0m \u001b[1m139s\u001b[0m 10ms/step - accuracy: 0.9744 - loss: 0.0584 - val_accuracy: 0.6765 - val_loss: 5.8900\n",
      "Epoch 90/100\n",
      "\u001b[1m14338/14338\u001b[0m \u001b[32m━━━━━━━━━━━━━━━━━━━━\u001b[0m\u001b[37m\u001b[0m \u001b[1m135s\u001b[0m 9ms/step - accuracy: 0.9746 - loss: 0.0580 - val_accuracy: 0.6780 - val_loss: 5.9796\n",
      "Epoch 91/100\n",
      "\u001b[1m14338/14338\u001b[0m \u001b[32m━━━━━━━━━━━━━━━━━━━━\u001b[0m\u001b[37m\u001b[0m \u001b[1m136s\u001b[0m 9ms/step - accuracy: 0.9744 - loss: 0.0587 - val_accuracy: 0.6777 - val_loss: 6.0304\n",
      "Epoch 92/100\n",
      "\u001b[1m14338/14338\u001b[0m \u001b[32m━━━━━━━━━━━━━━━━━━━━\u001b[0m\u001b[37m\u001b[0m \u001b[1m136s\u001b[0m 9ms/step - accuracy: 0.9743 - loss: 0.0593 - val_accuracy: 0.6766 - val_loss: 6.0925\n",
      "Epoch 93/100\n",
      "\u001b[1m14338/14338\u001b[0m \u001b[32m━━━━━━━━━━━━━━━━━━━━\u001b[0m\u001b[37m\u001b[0m \u001b[1m136s\u001b[0m 9ms/step - accuracy: 0.9751 - loss: 0.0569 - val_accuracy: 0.6758 - val_loss: 6.0991\n",
      "Epoch 94/100\n",
      "\u001b[1m14338/14338\u001b[0m \u001b[32m━━━━━━━━━━━━━━━━━━━━\u001b[0m\u001b[37m\u001b[0m \u001b[1m131s\u001b[0m 9ms/step - accuracy: 0.9741 - loss: 0.0581 - val_accuracy: 0.6755 - val_loss: 6.1536\n",
      "Epoch 95/100\n",
      "\u001b[1m14338/14338\u001b[0m \u001b[32m━━━━━━━━━━━━━━━━━━━━\u001b[0m\u001b[37m\u001b[0m \u001b[1m141s\u001b[0m 10ms/step - accuracy: 0.9753 - loss: 0.0569 - val_accuracy: 0.6753 - val_loss: 6.1543\n",
      "Epoch 96/100\n",
      "\u001b[1m14338/14338\u001b[0m \u001b[32m━━━━━━━━━━━━━━━━━━━━\u001b[0m\u001b[37m\u001b[0m \u001b[1m132s\u001b[0m 9ms/step - accuracy: 0.9747 - loss: 0.0587 - val_accuracy: 0.6755 - val_loss: 6.1907\n",
      "Epoch 97/100\n",
      "\u001b[1m14338/14338\u001b[0m \u001b[32m━━━━━━━━━━━━━━━━━━━━\u001b[0m\u001b[37m\u001b[0m \u001b[1m138s\u001b[0m 10ms/step - accuracy: 0.9747 - loss: 0.0582 - val_accuracy: 0.6751 - val_loss: 6.2194\n",
      "Epoch 98/100\n",
      "\u001b[1m14338/14338\u001b[0m \u001b[32m━━━━━━━━━━━━━━━━━━━━\u001b[0m\u001b[37m\u001b[0m \u001b[1m140s\u001b[0m 10ms/step - accuracy: 0.9741 - loss: 0.0594 - val_accuracy: 0.6759 - val_loss: 6.2523\n",
      "Epoch 99/100\n",
      "\u001b[1m14338/14338\u001b[0m \u001b[32m━━━━━━━━━━━━━━━━━━━━\u001b[0m\u001b[37m\u001b[0m \u001b[1m139s\u001b[0m 10ms/step - accuracy: 0.9744 - loss: 0.0581 - val_accuracy: 0.6747 - val_loss: 6.2885\n",
      "Epoch 100/100\n",
      "\u001b[1m14338/14338\u001b[0m \u001b[32m━━━━━━━━━━━━━━━━━━━━\u001b[0m\u001b[37m\u001b[0m \u001b[1m139s\u001b[0m 10ms/step - accuracy: 0.9749 - loss: 0.0578 - val_accuracy: 0.6739 - val_loss: 6.3519\n"
     ]
    }
   ],
   "source": [
    "r = model.fit(\n",
    "    Xtrain, Ytrain,\n",
    "    validation_data=(Xtest, Ytest),\n",
    "    epochs=100,\n",
    "    batch_size=12,\n",
    ")"
   ]
  },
  {
   "cell_type": "code",
   "execution_count": 31,
   "metadata": {},
   "outputs": [
    {
     "data": {
      "image/png": "[encoded data removed]",
      "text/plain": [
       "<Figure size 640x480 with 1 Axes>"
      ]
     },
     "metadata": {},
     "output_type": "display_data"
    }
   ],
   "source": [
    "plt. plot(r.history[\"loss\"], label=\"train loss\")\n",
    "plt.plot(r.history[\"val_loss\"], label=\"val loss\")\n",
    "plt.legend();"
   ]
  },
  {
   "cell_type": "code",
   "execution_count": 32,
   "metadata": {},
   "outputs": [
    {
     "data": {
      "image/png": "[encoded data removed]",
      "text/plain": [
       "<Figure size 640x480 with 1 Axes>"
      ]
     },
     "metadata": {},
     "output_type": "display_data"
    }
   ],
   "source": [
    "plt. plot(r.history[\"accuracy\"], label=\"train acc\")\n",
    "plt.plot(r.history[\"val_accuracy\"], label=\"val acc\")\n",
    "plt.legend();"
   ]
  },
  {
   "cell_type": "code",
   "execution_count": 43,
   "metadata": {},
   "outputs": [],
   "source": [
    "# Guardar el modelo entrenado en un archivo en formato nativo Keras\n",
    "model.save('modelo_entrenado_twitt.keras')\n",
    "# model.save('modelo_entrenado.model')"
   ]
  },
  {
   "cell_type": "code",
   "execution_count": 45,
   "metadata": {},
   "outputs": [],
   "source": [
    "modelo_cargado = tf.keras.models.load_model('modelo_entrenado_twitt.keras')"
   ]
  },
  {
   "cell_type": "code",
   "execution_count": 46,
   "metadata": {},
   "outputs": [
    {
     "data": {
      "text/html": [
       "<pre style=\"white-space:pre;overflow-x:auto;line-height:normal;font-family:Menlo,'DejaVu Sans Mono',consolas,'Courier New',monospace\"><span style=\"font-weight: bold\">Model: \"functional_3\"</span>\n",
       "</pre>\n"
      ],
      "text/plain": [
       "\u001b[1mModel: \"functional_3\"\u001b[0m\n"
      ]
     },
     "metadata": {},
     "output_type": "display_data"
    },
    {
     "data": {
      "text/html": [
       "<pre style=\"white-space:pre;overflow-x:auto;line-height:normal;font-family:Menlo,'DejaVu Sans Mono',consolas,'Courier New',monospace\">┏━━━━━━━━━━━━━━━━━━━━━━━━━━━━━━━━━┳━━━━━━━━━━━━━━━━━━━━━━━━┳━━━━━━━━━━━━━━━┓\n",
       "┃<span style=\"font-weight: bold\"> Layer (type)                    </span>┃<span style=\"font-weight: bold\"> Output Shape           </span>┃<span style=\"font-weight: bold\">       Param # </span>┃\n",
       "┡━━━━━━━━━━━━━━━━━━━━━━━━━━━━━━━━━╇━━━━━━━━━━━━━━━━━━━━━━━━╇━━━━━━━━━━━━━━━┩\n",
       "│ input_layer_1 (<span style=\"color: #0087ff; text-decoration-color: #0087ff\">InputLayer</span>)      │ (<span style=\"color: #00d7ff; text-decoration-color: #00d7ff\">None</span>, <span style=\"color: #00af00; text-decoration-color: #00af00\">5000</span>)           │             <span style=\"color: #00af00; text-decoration-color: #00af00\">0</span> │\n",
       "├─────────────────────────────────┼────────────────────────┼───────────────┤\n",
       "│ dense_2 (<span style=\"color: #0087ff; text-decoration-color: #0087ff\">Dense</span>)                 │ (<span style=\"color: #00d7ff; text-decoration-color: #00d7ff\">None</span>, <span style=\"color: #00af00; text-decoration-color: #00af00\">300</span>)            │     <span style=\"color: #00af00; text-decoration-color: #00af00\">1,500,300</span> │\n",
       "├─────────────────────────────────┼────────────────────────┼───────────────┤\n",
       "│ dense_3 (<span style=\"color: #0087ff; text-decoration-color: #0087ff\">Dense</span>)                 │ (<span style=\"color: #00d7ff; text-decoration-color: #00d7ff\">None</span>, <span style=\"color: #00af00; text-decoration-color: #00af00\">5</span>)              │         <span style=\"color: #00af00; text-decoration-color: #00af00\">1,505</span> │\n",
       "└─────────────────────────────────┴────────────────────────┴───────────────┘\n",
       "</pre>\n"
      ],
      "text/plain": [
       "┏━━━━━━━━━━━━━━━━━━━━━━━━━━━━━━━━━┳━━━━━━━━━━━━━━━━━━━━━━━━┳━━━━━━━━━━━━━━━┓\n",
       "┃\u001b[1m \u001b[0m\u001b[1mLayer (type)                   \u001b[0m\u001b[1m \u001b[0m┃\u001b[1m \u001b[0m\u001b[1mOutput Shape          \u001b[0m\u001b[1m \u001b[0m┃\u001b[1m \u001b[0m\u001b[1m      Param #\u001b[0m\u001b[1m \u001b[0m┃\n",
       "┡━━━━━━━━━━━━━━━━━━━━━━━━━━━━━━━━━╇━━━━━━━━━━━━━━━━━━━━━━━━╇━━━━━━━━━━━━━━━┩\n",
       "│ input_layer_1 (\u001b[38;5;33mInputLayer\u001b[0m)      │ (\u001b[38;5;45mNone\u001b[0m, \u001b[38;5;34m5000\u001b[0m)           │             \u001b[38;5;34m0\u001b[0m │\n",
       "├─────────────────────────────────┼────────────────────────┼───────────────┤\n",
       "│ dense_2 (\u001b[38;5;33mDense\u001b[0m)                 │ (\u001b[38;5;45mNone\u001b[0m, \u001b[38;5;34m300\u001b[0m)            │     \u001b[38;5;34m1,500,300\u001b[0m │\n",
       "├─────────────────────────────────┼────────────────────────┼───────────────┤\n",
       "│ dense_3 (\u001b[38;5;33mDense\u001b[0m)                 │ (\u001b[38;5;45mNone\u001b[0m, \u001b[38;5;34m5\u001b[0m)              │         \u001b[38;5;34m1,505\u001b[0m │\n",
       "└─────────────────────────────────┴────────────────────────┴───────────────┘\n"
      ]
     },
     "metadata": {},
     "output_type": "display_data"
    },
    {
     "data": {
      "text/html": [
       "<pre style=\"white-space:pre;overflow-x:auto;line-height:normal;font-family:Menlo,'DejaVu Sans Mono',consolas,'Courier New',monospace\"><span style=\"font-weight: bold\"> Total params: </span><span style=\"color: #00af00; text-decoration-color: #00af00\">3,003,612</span> (11.46 MB)\n",
       "</pre>\n"
      ],
      "text/plain": [
       "\u001b[1m Total params: \u001b[0m\u001b[38;5;34m3,003,612\u001b[0m (11.46 MB)\n"
      ]
     },
     "metadata": {},
     "output_type": "display_data"
    },
    {
     "data": {
      "text/html": [
       "<pre style=\"white-space:pre;overflow-x:auto;line-height:normal;font-family:Menlo,'DejaVu Sans Mono',consolas,'Courier New',monospace\"><span style=\"font-weight: bold\"> Trainable params: </span><span style=\"color: #00af00; text-decoration-color: #00af00\">1,501,805</span> (5.73 MB)\n",
       "</pre>\n"
      ],
      "text/plain": [
       "\u001b[1m Trainable params: \u001b[0m\u001b[38;5;34m1,501,805\u001b[0m (5.73 MB)\n"
      ]
     },
     "metadata": {},
     "output_type": "display_data"
    },
    {
     "data": {
      "text/html": [
       "<pre style=\"white-space:pre;overflow-x:auto;line-height:normal;font-family:Menlo,'DejaVu Sans Mono',consolas,'Courier New',monospace\"><span style=\"font-weight: bold\"> Non-trainable params: </span><span style=\"color: #00af00; text-decoration-color: #00af00\">0</span> (0.00 B)\n",
       "</pre>\n"
      ],
      "text/plain": [
       "\u001b[1m Non-trainable params: \u001b[0m\u001b[38;5;34m0\u001b[0m (0.00 B)\n"
      ]
     },
     "metadata": {},
     "output_type": "display_data"
    },
    {
     "data": {
      "text/html": [
       "<pre style=\"white-space:pre;overflow-x:auto;line-height:normal;font-family:Menlo,'DejaVu Sans Mono',consolas,'Courier New',monospace\"><span style=\"font-weight: bold\"> Optimizer params: </span><span style=\"color: #00af00; text-decoration-color: #00af00\">1,501,807</span> (5.73 MB)\n",
       "</pre>\n"
      ],
      "text/plain": [
       "\u001b[1m Optimizer params: \u001b[0m\u001b[38;5;34m1,501,807\u001b[0m (5.73 MB)\n"
      ]
     },
     "metadata": {},
     "output_type": "display_data"
    }
   ],
   "source": [
    "# Verificar la arquitectura del modelo cargado\n",
    "modelo_cargado.summary()"
   ]
  },
  {
   "cell_type": "code",
   "execution_count": 47,
   "metadata": {},
   "outputs": [
    {
     "name": "stdout",
     "output_type": "stream",
     "text": [
      "\u001b[1m6145/6145\u001b[0m \u001b[32m━━━━━━━━━━━━━━━━━━━━\u001b[0m\u001b[37m\u001b[0m \u001b[1m5s\u001b[0m 819us/step - accuracy: 0.6735 - loss: 6.3740\n",
      "Pérdida del modelo cargado: 6.351937770843506\n",
      "Precisión del modelo cargado: 0.6739221811294556\n"
     ]
    }
   ],
   "source": [
    "# Evaluar el modelo cargado para asegurarse de que funciona correctamente\n",
    "resultado = modelo_cargado.evaluate(Xtest, Ytest, batch_size=12)\n",
    "print(f'Pérdida del modelo cargado: {resultado[0]}')\n",
    "print(f'Precisión del modelo cargado: {resultado[1]}')"
   ]
  },
  {
   "cell_type": "code",
   "execution_count": 48,
   "metadata": {},
   "outputs": [
    {
     "name": "stdout",
     "output_type": "stream",
     "text": [
      "\u001b[1m6145/6145\u001b[0m \u001b[32m━━━━━━━━━━━━━━━━━━━━\u001b[0m\u001b[37m\u001b[0m \u001b[1m6s\u001b[0m 912us/step - accuracy: 0.6735 - loss: 6.3740\n",
      "Pérdida del modelo original: 6.351937770843506\n",
      "Precisión del modelo original: 0.6739221811294556\n"
     ]
    }
   ],
   "source": [
    "# Opcional: evaluar de nuevo el modelo original para comparación\n",
    "resultado_original = model.evaluate(Xtest, Ytest, batch_size=12)\n",
    "print(f'Pérdida del modelo original: {resultado_original[0]}')\n",
    "print(f'Precisión del modelo original: {resultado_original[1]}')"
   ]
  }
 ],
 "metadata": {
  "kernelspec": {
   "display_name": "vprutri",
   "language": "python",
   "name": "python3"
  },
  "language_info": {
   "codemirror_mode": {
    "name": "ipython",
    "version": 3
   },
   "file_extension": ".py",
   "mimetype": "text/x-python",
   "name": "python",
   "nbconvert_exporter": "python",
   "pygments_lexer": "ipython3",
   "version": "3.11.9"
  }
 },
 "nbformat": 4,
 "nbformat_minor": 2
}
