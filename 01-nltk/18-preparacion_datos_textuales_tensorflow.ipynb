{
 "cells": [
  {
   "cell_type": "code",
   "execution_count": 2,
   "metadata": {},
   "outputs": [],
   "source": [
    "from tensorflow.keras.preprocessing.text import Tokenizer\n",
    "from tensorflow.keras.preprocessing.sequence import pad_sequences\n"
   ]
  },
  {
   "cell_type": "code",
   "execution_count": 4,
   "metadata": {},
   "outputs": [],
   "source": [
    "oraciones = [\n",
    "    \"me gustan los fideos con salsa de tomate\",\n",
    "    \"amo comer chocolates y los helados\",\n",
    "    \"odio las cebollas\"\n",
    "]"
   ]
  },
  {
   "cell_type": "code",
   "execution_count": 6,
   "metadata": {},
   "outputs": [],
   "source": [
    "MAX_VOCAB_SIZE = 30000\n",
    "tokenizer = Tokenizer(num_words=MAX_VOCAB_SIZE)\n",
    "tokenizer.fit_on_texts(oraciones)\n",
    "secuencias = tokenizer.texts_to_sequences(oraciones)"
   ]
  },
  {
   "cell_type": "code",
   "execution_count": 7,
   "metadata": {},
   "outputs": [
    {
     "name": "stdout",
     "output_type": "stream",
     "text": [
      "[[2, 3, 1, 4, 5, 6, 7, 8], [9, 10, 11, 12, 1, 13], [14, 15, 16]]\n"
     ]
    }
   ],
   "source": [
    "print(secuencias)"
   ]
  },
  {
   "cell_type": "code",
   "execution_count": 8,
   "metadata": {},
   "outputs": [
    {
     "data": {
      "text/plain": [
       "{'los': 1,\n",
       " 'me': 2,\n",
       " 'gustan': 3,\n",
       " 'fideos': 4,\n",
       " 'con': 5,\n",
       " 'salsa': 6,\n",
       " 'de': 7,\n",
       " 'tomate': 8,\n",
       " 'amo': 9,\n",
       " 'comer': 10,\n",
       " 'chocolates': 11,\n",
       " 'y': 12,\n",
       " 'helados': 13,\n",
       " 'odio': 14,\n",
       " 'las': 15,\n",
       " 'cebollas': 16}"
      ]
     },
     "execution_count": 8,
     "metadata": {},
     "output_type": "execute_result"
    }
   ],
   "source": [
    "tokenizer.word_index"
   ]
  },
  {
   "cell_type": "code",
   "execution_count": 9,
   "metadata": {},
   "outputs": [
    {
     "name": "stdout",
     "output_type": "stream",
     "text": [
      "[[ 2  3  1  4  5  6  7  8]\n",
      " [ 0  0  9 10 11 12  1 13]\n",
      " [ 0  0  0  0  0 14 15 16]]\n"
     ]
    }
   ],
   "source": [
    "data = pad_sequences(secuencias)\n",
    "print(data)"
   ]
  },
  {
   "cell_type": "code",
   "execution_count": 10,
   "metadata": {},
   "outputs": [
    {
     "name": "stdout",
     "output_type": "stream",
     "text": [
      "[[ 4  5  6  7  8]\n",
      " [10 11 12  1 13]\n",
      " [ 0  0 14 15 16]]\n",
      "(3, 5)\n"
     ]
    }
   ],
   "source": [
    "MAX_SEQUENCE_LENGTH = 5\n",
    "data = pad_sequences(secuencias, maxlen=MAX_SEQUENCE_LENGTH)\n",
    "print(data)\n",
    "print(data.shape)"
   ]
  },
  {
   "cell_type": "code",
   "execution_count": 11,
   "metadata": {},
   "outputs": [
    {
     "name": "stdout",
     "output_type": "stream",
     "text": [
      "[[ 4  5  6  7  8]\n",
      " [10 11 12  1 13]\n",
      " [14 15 16  0  0]]\n"
     ]
    }
   ],
   "source": [
    "data = pad_sequences(secuencias, maxlen=MAX_SEQUENCE_LENGTH, padding='post')\n",
    "print(data)"
   ]
  }
 ],
 "metadata": {
  "kernelspec": {
   "display_name": "vprutri",
   "language": "python",
   "name": "python3"
  },
  "language_info": {
   "codemirror_mode": {
    "name": "ipython",
    "version": 3
   },
   "file_extension": ".py",
   "mimetype": "text/x-python",
   "name": "python",
   "nbconvert_exporter": "python",
   "pygments_lexer": "ipython3",
   "version": "3.11.9"
  }
 },
 "nbformat": 4,
 "nbformat_minor": 2
}
